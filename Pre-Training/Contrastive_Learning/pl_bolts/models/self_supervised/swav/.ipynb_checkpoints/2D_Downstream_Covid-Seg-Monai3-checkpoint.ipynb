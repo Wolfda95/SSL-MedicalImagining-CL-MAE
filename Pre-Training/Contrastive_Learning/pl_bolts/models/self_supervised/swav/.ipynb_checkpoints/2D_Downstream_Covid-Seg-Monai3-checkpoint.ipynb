{
 "cells": [
  {
   "cell_type": "code",
   "execution_count": 1,
   "id": "97dc417f-4758-4de2-ad74-24752f3ca7ea",
   "metadata": {
    "pycharm": {
     "name": "#%%\n"
    }
   },
   "outputs": [
    {
     "name": "stderr",
     "output_type": "stream",
     "text": [
      "/home/wolfda/anaconda3/envs/down/lib/python3.10/site-packages/torchvision/io/image.py:13: UserWarning: Failed to load image Python extension: libtorch_cuda_cu.so: cannot open shared object file: No such file or directory\n",
      "  warn(f\"Failed to load image Python extension: {e}\")\n"
     ]
    },
    {
     "name": "stdout",
     "output_type": "stream",
     "text": [
      "2022-10-20 11:56:32,878 - Created a temporary directory at /tmp/tmp82kiwhrj\n",
      "2022-10-20 11:56:32,879 - Writing /tmp/tmp82kiwhrj/_remote_module_non_scriptable.py\n"
     ]
    },
    {
     "ename": "ModuleNotFoundError",
     "evalue": "No module named 'segmentation_models_pytorch'",
     "output_type": "error",
     "traceback": [
      "\u001b[0;31m---------------------------------------------------------------------------\u001b[0m",
      "\u001b[0;31mModuleNotFoundError\u001b[0m                       Traceback (most recent call last)",
      "Input \u001b[0;32mIn [1]\u001b[0m, in \u001b[0;36m<cell line: 51>\u001b[0;34m()\u001b[0m\n\u001b[1;32m     48\u001b[0m \u001b[38;5;28;01mfrom\u001b[39;00m \u001b[38;5;21;01mpytorch_lightning\u001b[39;00m \u001b[38;5;28;01mimport\u001b[39;00m callbacks\n\u001b[1;32m     50\u001b[0m \u001b[38;5;66;03m# PyTorch Segmentation Models (https://github.com/qubvel/segmentation_models.pytorch)\u001b[39;00m\n\u001b[0;32m---> 51\u001b[0m \u001b[38;5;28;01mimport\u001b[39;00m \u001b[38;5;21;01msegmentation_models_pytorch\u001b[39;00m \u001b[38;5;28;01mas\u001b[39;00m \u001b[38;5;21;01msmp\u001b[39;00m\n\u001b[1;32m     53\u001b[0m \u001b[38;5;66;03m# Wandb \u001b[39;00m\n\u001b[1;32m     54\u001b[0m \u001b[38;5;28;01mimport\u001b[39;00m \u001b[38;5;21;01mwandb\u001b[39;00m\n",
      "\u001b[0;31mModuleNotFoundError\u001b[0m: No module named 'segmentation_models_pytorch'"
     ]
    }
   ],
   "source": [
    "\n",
    "from monai.transforms import (\n",
    "    AsDiscrete,\n",
    "    Compose,\n",
    "    Activations,\n",
    "    LoadImage,\n",
    "    RandFlip,\n",
    "    RandRotate,\n",
    "    RandZoom,\n",
    "    ScaleIntensity,\n",
    "    EnsureType,\n",
    "    AsChannelFirst,\n",
    "    Resize,\n",
    "    ToPIL\n",
    ")\n",
    "from monai.config import print_config\n",
    "\n",
    "# weiteres:\n",
    "import os\n",
    "import glob\n",
    "import matplotlib.pyplot as plt\n",
    "import PIL\n",
    "import numpy as np\n",
    "\n",
    "# GRAD CAM Versuch 1\n",
    "from torchcam.methods import SmoothGradCAMpp\n",
    "from torchvision.transforms.functional import normalize, resize, to_pil_image\n",
    "\n",
    "# GRAD CAM Versuch 2\n",
    "from medcam import medcam\n",
    "from IPython.display import Image\n",
    "\n",
    "# Output Metriken\n",
    "from sklearn.metrics import confusion_matrix, precision_score, classification_report, ConfusionMatrixDisplay, precision_recall_curve, PrecisionRecallDisplay, roc_curve, auc, plot_roc_curve, RocCurveDisplay\n",
    "\n",
    "from pytorch_model_summary import summary # Größe des Netzes anzeigen\n",
    "\n",
    "# SwAV ResNet Model\n",
    "import swav_resnet as resnet_models\n",
    "\n",
    "# Weights & Biasis\n",
    "from pytorch_lightning.loggers import WandbLogger # weights and biases logger\n",
    "\n",
    "# PyTorch \n",
    "import torch\n",
    "import torchvision.transforms as transforms\n",
    "import torchvision.models as models\n",
    "import pytorch_lightning\n",
    "from pytorch_lightning import callbacks\n",
    "\n",
    "# PyTorch Segmentation Models (https://github.com/qubvel/segmentation_models.pytorch)\n",
    "import segmentation_models_pytorch as smp\n",
    "\n",
    "# Wandb \n",
    "import wandb\n",
    "\n",
    "# Wandb Callbacks from hydra Template \n",
    "import wandb_callbacks as wbcall\n",
    "\n",
    " # importing cv2 \n",
    "import cv2 \n",
    "\n",
    "from logging import getLogger\n",
    "logger = getLogger()\n",
    "\n",
    "# Seed Everything \n",
    "pytorch_lightning.seed_everything(42, workers=True)\n",
    "\n",
    "# Config von monai (welche Version)\n",
    "print_config()\n",
    "\n"
   ]
  },
  {
   "cell_type": "code",
   "execution_count": 2,
   "id": "dbcb9e80-9a0e-4a83-9923-1f1ffd7df907",
   "metadata": {
    "pycharm": {
     "name": "#%%\n"
    }
   },
   "outputs": [
    {
     "name": "stdout",
     "output_type": "stream",
     "text": [
      "/home/wolfda/Data/Covid-Classification/Results\n"
     ]
    }
   ],
   "source": [
    "# FESTLEGEN\n",
    "\n",
    "# Ordner wo die Ergebnisse gespeichert werden\n",
    "root_dir = \"/home/wolfda/Data/Covid-Classification/Results\"\n",
    "print(root_dir)\n",
    "\n",
    "# Ordner wo die Daten liegen \n",
    "data_dir = \"/home/wolfda/Data/Covid-Classification/Data/Data/\" #\"/home/wolfda/Data/Challenge_COVID-19-20_v2/Data/2D/Pre-Down_Half_AllSeg/DownStream\"\n",
    "\n",
    "# Name Run\n",
    "Model = \"Dwonstrem_Covid_class\" #_50Per\"  \n",
    "Versuch = \"First_LIDC_Covid_SwAV_1-1\"  \n",
    "wandb_tag= [\"FrozenOpen\"] \n",
    "\n",
    "# Vortrainierte Gewichte \n",
    "pretrained_weights = \"/home/wolfda/Data/PreTrain_Lung/PreTrain/Covid_LIDC/First_Covid_LIDC_SwAV_2/epoch=770-train_loss=2.09.ckpt\" #\"/home/wolfda/Data/PreTrain_Lung/PreTrain/Covid_LIDC/NotSim_v2_Covid_LIDC_SwAV/epoch=653-train_loss=3.86.ckpt\" #\"/home/wolfda/Data/PreTrain_Lung/PreTrain/Covid_LIDC/NotSim_Covid_LIDC_SwAV/epoch=794-train_loss=2.44.ckpt\"#\"/home/wolfda/Data/PreTrain_Lung/PreTrain/Covid/NotSim_Covid_SwAV/epoch=793-train_loss=3.59.ckpt\" #\"/home/wolfda/Data/PreTrain_Lung/PreTrain/Covid/Covid_SwAV/epoch=776-train_loss=2.22.ckpt\" \n",
    "preTrain = True # True: Wenn die Gewichte geladen werden sollen, sonst false \n",
    "\n",
    "# PyTorch ImageNet PreTrain Version \n",
    "IM_PreTrain = False\n",
    "\n",
    "# Epochen\n",
    "Epochen = 55 \n",
    "\n",
    "# Learning Rate\n",
    "lr = 1e-4 # -> Optimizer 100\n",
    "WeightDecay = 0.0005 # -> Optimizer \n",
    "find_lr_automatic = False # -> Lightning Trainier | True: Runs a learning rate finder algorithm, results override hparams.learning_rate\n",
    "num_batches_to_accumulate = 1 # -> Lightning Trainier | GPU zu klein für BS -> Fasst mehrere Batches zusammen und macht erst dann Update (Default: 1)\n",
    "\n",
    "# Batch Size\n",
    "bs = 64 # -> Data Loader\n",
    "automatic_scale_batch_size = None # -> Lightning Trainier | \"binsearch\": Automatically tries to find the largest batch size that fits into memory, before any training. result overrides hparams.batch_size\n",
    "\n",
    "# Loss, Optimizer \n",
    "loss = torch.nn.CrossEntropyLoss() # NLLLoss() falls Netz schon softmax macht | CrossEntropyLoss() falls Netz noch keine Softmax macht  || in (): weight=torch.FloatTensor([0.3,0.7])\n",
    "optim = \"Adam\" # Optimizer \n",
    "\n",
    "# Freeze Encoder\n",
    "first_frozen = True # True: erst Frozen, dann open + kleinere LR | False: sofort open\n",
    "unfreeze = 10 # -> Lightning Trainier | Ab wann soll Encoder offen sein (ACHTUNG: Encoder muss \"backbone\" heißen) \n",
    "\n",
    "# Mean und Std für Normalization je nach Dataset anpassen \n",
    "\n",
    "# Speichert für wandb:\n",
    "info={\"Path_save\": root_dir, \"Path_data\": data_dir, \"PreTrain\": preTrain, \"PreTrain_Weights\": pretrained_weights, \"IM_PreTrain\":IM_PreTrain, \"Epochs\": Epochen, \"first_frozen\": first_frozen, \"Epochs Freeze untill\": unfreeze, \"Learning_Rate\": lr, \"Lr Lightning auto finder\": find_lr_automatic,  \"Bs\": bs, \"Bs mal x\": num_batches_to_accumulate, \"BS auto find\": automatic_scale_batch_size,  \"loss\": loss, \"Optimizer\": optim, \"Optim Weight_Decay\": WeightDecay,}"
   ]
  },
  {
   "cell_type": "code",
   "execution_count": 3,
   "id": "289af635-fee3-4020-9fbd-846838d08dc3",
   "metadata": {
    "pycharm": {
     "name": "#%%\n"
    }
   },
   "outputs": [
    {
     "name": "stdout",
     "output_type": "stream",
     "text": [
      "Total image count: 746\n",
      "Image dimensions: 424 x 308\n",
      "Label names: ['CT_COVID', 'CT_NonCOVID']\n",
      "Label names: 2\n",
      "Label counts: [349, 397]\n"
     ]
    }
   ],
   "source": [
    "# Bilder einlesen \n",
    "# Ordnerstruktur: Pfad der geladen wird -> ein unterordner pro Klasse -> Bilder der Klasse in dem Unterordner \n",
    "\n",
    "class_names = sorted(x for x in os.listdir(data_dir)\n",
    "                     if os.path.isdir(os.path.join(data_dir, x)))\n",
    "num_class = len(class_names)\n",
    "image_files = [\n",
    "    [\n",
    "        os.path.join(data_dir, class_names[i], x)\n",
    "        for x in os.listdir(os.path.join(data_dir, class_names[i]))\n",
    "    ]\n",
    "    for i in range(num_class)\n",
    "]\n",
    "num_each = [len(image_files[i]) for i in range(num_class)]\n",
    "image_files_list = []\n",
    "image_class = []\n",
    "for i in range(num_class):\n",
    "    image_files_list.extend(image_files[i])\n",
    "    image_class.extend([i] * num_each[i])\n",
    "num_total = len(image_class)\n",
    "image_width, image_height = PIL.Image.open(image_files_list[0]).size\n",
    "\n",
    "n_classes = len(class_names)\n",
    "\n",
    "print(f\"Total image count: {num_total}\")\n",
    "print(f\"Image dimensions: {image_width} x {image_height}\")\n",
    "print(f\"Label names: {class_names}\")\n",
    "print(f\"Label names: {n_classes}\")\n",
    "print(f\"Label counts: {num_each}\")"
   ]
  },
  {
   "cell_type": "code",
   "execution_count": 4,
   "id": "2e1d12da-26cb-4e2c-a731-7f06422aedaf",
   "metadata": {
    "pycharm": {
     "name": "#%%\n"
    }
   },
   "outputs": [
    {
     "name": "stdout",
     "output_type": "stream",
     "text": [
      "(194, 315, 3)\n",
      "(407, 511, 3)\n",
      "(307, 407, 3)\n",
      "(203, 411, 4)\n",
      "(159, 214, 4)\n",
      "(361, 512, 3)\n",
      "(270, 351, 3)\n",
      "(466, 630, 3)\n",
      "(119, 182, 4)\n"
     ]
    },
    {
     "data": {
      "image/png": "[encoded data removed]",
      "text/plain": [
       "<Figure size 800x800 with 9 Axes>"
      ]
     },
     "metadata": {},
     "output_type": "display_data"
    }
   ],
   "source": [
    "# Visualization check (Braucht man nicht unbedingt)\n",
    "plt.subplots(3, 3, figsize=(8, 8))\n",
    "for i, k in enumerate(np.random.randint(num_total, size=9)):\n",
    "    im = PIL.Image.open(image_files_list[k])\n",
    "    arr = np.array(im)\n",
    "    #arr = cv2.cvtColor(arr,cv2.COLOR_GRAY2RGB) # macht 3 Channel (3 mal das gleiche) \n",
    "    plt.subplot(3, 3, i + 1)\n",
    "    plt.xlabel(class_names[image_class[k]])\n",
    "    plt.imshow(arr, cmap=\"gray\", vmin=0, vmax=255)\n",
    "    print(arr.shape)\n",
    "plt.tight_layout()\n",
    "plt.show()"
   ]
  },
  {
   "cell_type": "code",
   "execution_count": 5,
   "id": "5f3ba2b3-313b-474a-96f5-7efedd250641",
   "metadata": {
    "pycharm": {
     "name": "#%%\n"
    }
   },
   "outputs": [
    {
     "name": "stdout",
     "output_type": "stream",
     "text": [
      "Reduce Train: 100 %\n",
      "Training count: 524, Validation count: 111, Test count: 111\n"
     ]
    }
   ],
   "source": [
    "# Train, Val, Test \n",
    "\n",
    "reduce_train = 1 # 1 0.5 # % of Dataset [1 wenn alle Daten] (Nur Train wird verkleinert; Val, Test bleiben konstant)\n",
    "\n",
    "val_frac = 0.15  #0.25 #0.15 # % Validation\n",
    "test_frac = 0.15 #0.1 #0.75 # % Test\n",
    "length = len(image_files_list)\n",
    "indices = np.arange(length)\n",
    "np.random.seed(42) # Bei jedem Run genau die gleichen gleichen Bilder in train, val, test\n",
    "np.random.shuffle(indices)\n",
    "\n",
    "test_split = int(test_frac * length) # Länge Test\n",
    "val_split = int(val_frac * length) + test_split # Länge Val + Test\n",
    "train = (length - val_split) * reduce_train # Länge Train: (GesamtLänge - Länge Länge Val,Test)* Reduce_Data\n",
    "test_indices = indices[:test_split]\n",
    "val_indices = indices[test_split:val_split]\n",
    "train_indices = indices[val_split:(int(train)+val_split)]\n",
    "\n",
    "train_x = [image_files_list[i] for i in train_indices]\n",
    "train_y = [image_class[i] for i in train_indices]\n",
    "val_x = [image_files_list[i] for i in val_indices]\n",
    "val_y = [image_class[i] for i in val_indices]\n",
    "test_x = [image_files_list[i] for i in test_indices]\n",
    "test_y = [image_class[i] for i in test_indices]\n",
    "\n",
    "print(\"Reduce Train:\", reduce_train*100, \"%\" )\n",
    "print(\n",
    "    f\"Training count: {len(train_x)}, Validation count: \"\n",
    "    f\"{len(val_x)}, Test count: {len(test_x)}\")"
   ]
  },
  {
   "cell_type": "code",
   "execution_count": 6,
   "id": "88785180-b726-452a-a225-db74f0261524",
   "metadata": {
    "pycharm": {
     "name": "#%%\n"
    }
   },
   "outputs": [],
   "source": [
    "# Gray scale Transforms:\n",
    "# If gray scale: drei mal den gleichen channel hintereinander\n",
    "class gray_to_rgb(object):\n",
    "    def __init__(self):\n",
    "        pass\n",
    "    def __call__(self, image):\n",
    "        if len(image.shape) == 2: # gray\n",
    "            image = np.stack((image, image, image), 2)\n",
    "            return image\n",
    "        if image.shape[2] == 4: # Falls (x,y,4) -> (x,y,3)\n",
    "            image = np.stack((image[...,0], image[...,1], image[...,2]), 2)\n",
    "            return image\n",
    "        else:\n",
    "            return image\n",
    "    "
   ]
  },
  {
   "cell_type": "code",
   "execution_count": 7,
   "id": "89860720-2284-4c87-9dbd-eeaf59a823f7",
   "metadata": {
    "pycharm": {
     "name": "#%%\n"
    }
   },
   "outputs": [],
   "source": [
    "# PIL need uint8                                 \n",
    "class to_uint8(object):\n",
    "    def __init__(self):\n",
    "        pass\n",
    "    def __call__(self, image):\n",
    "        image = image.astype(np.uint8)\n",
    "        return image"
   ]
  },
  {
   "cell_type": "code",
   "execution_count": 8,
   "id": "c0e58f88-fdf8-4eb5-889c-2df2858a615c",
   "metadata": {
    "pycharm": {
     "name": "#%%\n"
    }
   },
   "outputs": [],
   "source": [
    "# maps values form [255,0] -> [1,0]\n",
    "class scale(object):\n",
    "    def __init__(self):\n",
    "        pass\n",
    "    def __call__(self, image):\n",
    "        # map values from [from_min, from_max] to [to_min, to_max]\n",
    "        # image: input array\n",
    "        from_range = 255 - 0\n",
    "        to_range = 1 - 0\n",
    "        scaled = np.array((image - 0) / (float(from_range)+0.00001), dtype=float)\n",
    "        return 0 + (scaled * to_range)"
   ]
  },
  {
   "cell_type": "code",
   "execution_count": 9,
   "id": "828f5fa3-8886-47b0-9c39-62c5cbccbdad",
   "metadata": {
    "pycharm": {
     "name": "#%%\n"
    }
   },
   "outputs": [],
   "source": [
    "# Transforms\n",
    "\n",
    "s= 1.0\n",
    "\n",
    "mean = [0.5600, 0.5596, 0.5596]\n",
    "std = [0.2905, 0.2907, 0.2908]\n",
    "\n",
    "train_transforms = transforms.Compose(\n",
    "    [   \n",
    "        # Load Image\n",
    "        LoadImage(image_only=True), # Loads Image (nii, nii.gz -> NibabelReader), (png, jpg, bmp -> PILReader), (npz, npy -> NumpyReader), (nrrd -> NrrdReader), (DICOM file -> ITKReader)\n",
    "        # Numpy Array [HxWxChannels] [Range: 0-255]\n",
    "        \n",
    "        # If Gray scale: (x,y) -> 3x(x,y) \n",
    "        # Ich habe die mit 3 channels abgespeichert\n",
    "        gray_to_rgb(),\n",
    "        \n",
    "        # To PIL -------------------------------------\n",
    "        to_uint8(), # PIL needs numpy array with uint8, converts to [0-255, 8 bit]\n",
    "        transforms.ToPILImage(), # numpy to PIL (Numpy Image needs to be: [HxWxChannels])\n",
    "        \n",
    "        # PIL_Image Transforms:\n",
    "        #transforms.Grayscale(num_output_channels=3), # RGB Image to Gray Scale\n",
    "        \n",
    "        # ODER ----------------\n",
    "        # Nur falls kein PIL gemacht \n",
    "        # Scale [255,0] -> [1,0]\n",
    "        #scale(),\n",
    "        # ---------------------\n",
    "        \n",
    "        # PIL/Numpy to Torch --------------------------------\n",
    "        # [HxWxChannels] -> [ChannelsxWxH]\n",
    "        # Wenn vorher PIL: [0-225] -> [0-1] || Wenn vorher Numpy: [0-225] -> [0-225]\n",
    "        transforms.ToTensor(),\n",
    "        \n",
    "        # Torch_Tensor Transforms: (Torch and Monai stuff)\n",
    "        \n",
    "        #transforms.RandomApply(transforms.ColorJitter(0.8 * s, 0.8 * s, 0.8 * s, 0.2 * s), p=0.5),\n",
    "        \n",
    "        # Normalize:\n",
    "        # Needs to be: [0,1] sonst klappt es nicht\n",
    "        transforms.Normalize(mean=mean, std=std), # Normalize (Mittelwert soll jetzt bei 0 liegen)\n",
    "        \n",
    "        # Resize:\n",
    "        Resize(spatial_size=(224,224)), # Resize to [Channelsx224x224]\n",
    "        \n",
    "        #RandRotate(range_x=np.pi / 12, prob=0.5, keep_size=True),\n",
    "        RandFlip(spatial_axis=0, prob=0.5),\n",
    "        \n",
    "        EnsureType(), # egal was kommt -> Torch (braucht man hier nicht, da wir schon Torch haben)\n",
    "    ]\n",
    ")\n",
    "\n",
    "val_transforms = Compose(\n",
    "    [LoadImage(image_only=True),\n",
    "     gray_to_rgb(),  \n",
    "     \n",
    "     # PILL ----------\n",
    "     to_uint8(), \n",
    "     transforms.ToPILImage(), \n",
    "     \n",
    "     # ODER Scale -----\n",
    "     #scale(),\n",
    "     \n",
    "     #transforms.Grayscale(num_output_channels=3), \n",
    "     transforms.ToTensor(), \n",
    "     transforms.Normalize(mean=mean, std=std),\n",
    "     Resize(spatial_size=(224,224)),\n",
    "     EnsureType(),\n",
    "    ])\n",
    "\n",
    "y_pred_trans = Compose([EnsureType(), Activations(softmax=True)])\n",
    "y_trans = Compose([EnsureType(), AsDiscrete(to_onehot=num_class)])"
   ]
  },
  {
   "cell_type": "code",
   "execution_count": 10,
   "id": "82a585c9-0609-4178-8dde-778e680167d9",
   "metadata": {
    "pycharm": {
     "name": "#%%\n"
    }
   },
   "outputs": [],
   "source": [
    "# PT Dataset\n",
    "\n",
    "class MedNISTDataset(torch.utils.data.Dataset):\n",
    "    def __init__(self, image_files, labels, transforms):\n",
    "        self.image_files = image_files\n",
    "        self.labels = labels\n",
    "        self.transforms = transforms\n",
    "\n",
    "    def __len__(self):\n",
    "        return len(self.image_files)\n",
    "\n",
    "    def __getitem__(self, index):\n",
    "        return self.transforms(self.image_files[index]), self.labels[index]"
   ]
  },
  {
   "cell_type": "code",
   "execution_count": 11,
   "id": "1352bf05-161f-4f7c-bb10-531075b6dcbe",
   "metadata": {
    "pycharm": {
     "name": "#%%\n"
    }
   },
   "outputs": [
    {
     "name": "stdout",
     "output_type": "stream",
     "text": [
      "torch.Size([3, 224, 224])\n",
      "tensor(1.5150) tensor(-1.4226)\n",
      "tensor(1.5146) tensor(-1.4226)\n",
      "tensor(1.5150) tensor(-1.4203)\n",
      "tensor(1.5144) tensor(-1.4198)\n"
     ]
    }
   ],
   "source": [
    "# Nur zum Testen der Transforms \n",
    "example = MedNISTDataset(train_x, train_y, train_transforms)\n",
    "example_Image = example.__getitem__(0)\n",
    "\n",
    "# Numpy / Torch \n",
    "im = example_Image[0]\n",
    "print(im.shape)\n",
    "print(torch.max(im), torch.min(im))\n",
    "print(torch.max(im[0]), torch.min(im[0]))\n",
    "print(torch.max(im[1]), torch.min(im[1]))\n",
    "print(torch.max(im[2]), torch.min(im[2]))\n",
    "#print(np.amax(example_Image[0]), np.amin(example_Image[0]))\n",
    "\n",
    "# PIL\n",
    "# print(np.array(example_Image[0]).shape)\n",
    "# print(np.amax(np.array(example_Image[0])), np.amin(np.array(example_Image[0])))"
   ]
  },
  {
   "cell_type": "code",
   "execution_count": 12,
   "id": "b4d66054-ccc3-4cda-aab3-32ab85775822",
   "metadata": {
    "pycharm": {
     "name": "#%%\n"
    }
   },
   "outputs": [
    {
     "name": "stderr",
     "output_type": "stream",
     "text": [
      "/home/wolfda/anaconda3/envs/Monai3/lib/python3.9/site-packages/torch/cuda/__init__.py:146: UserWarning: \n",
      "NVIDIA GeForce RTX 3090 with CUDA capability sm_86 is not compatible with the current PyTorch installation.\n",
      "The current PyTorch install supports CUDA capabilities sm_37 sm_50 sm_60 sm_70.\n",
      "If you want to use the NVIDIA GeForce RTX 3090 GPU with PyTorch, please check the instructions at https://pytorch.org/get-started/locally/\n",
      "\n",
      "  warnings.warn(incompatible_device_warn.format(device_name, capability, \" \".join(arch_list), device_name))\n"
     ]
    },
    {
     "ename": "NameError",
     "evalue": "name 'deepcopy' is not defined",
     "output_type": "error",
     "traceback": [
      "\u001b[0;31m---------------------------------------------------------------------------\u001b[0m",
      "\u001b[0;31mNameError\u001b[0m                                 Traceback (most recent call last)",
      "Input \u001b[0;32mIn [12]\u001b[0m, in \u001b[0;36m<cell line: 22>\u001b[0;34m()\u001b[0m\n\u001b[1;32m     30\u001b[0m state_dict \u001b[38;5;241m=\u001b[39m {k\u001b[38;5;241m.\u001b[39mreplace(\u001b[38;5;124m\"\u001b[39m\u001b[38;5;124mmodel.\u001b[39m\u001b[38;5;124m\"\u001b[39m, \u001b[38;5;124m\"\u001b[39m\u001b[38;5;124m\"\u001b[39m): v \u001b[38;5;28;01mfor\u001b[39;00m k, v \u001b[38;5;129;01min\u001b[39;00m state_dict\u001b[38;5;241m.\u001b[39mitems()} \u001b[38;5;66;03m# Meine Checkpoints (model)\u001b[39;00m\n\u001b[1;32m     31\u001b[0m \u001b[38;5;66;03m#state_dict = {k.replace(\"module.\", \"\"): v for k, v in state_dict.items()} # ImageNet PreTrian von swav (module) \u001b[39;00m\n\u001b[1;32m     32\u001b[0m \n\u001b[1;32m     33\u001b[0m \u001b[38;5;66;03m# For Unet\u001b[39;00m\n\u001b[0;32m---> 34\u001b[0m unet_state_dict \u001b[38;5;241m=\u001b[39m \u001b[43mdeepcopy\u001b[49m(state_dict)\n\u001b[1;32m     35\u001b[0m \u001b[38;5;28;01mfor\u001b[39;00m k \u001b[38;5;129;01min\u001b[39;00m \u001b[38;5;28mlist\u001b[39m(unet_state_dict\u001b[38;5;241m.\u001b[39mkeys()):\n\u001b[1;32m     36\u001b[0m     unet_state_dict[\u001b[38;5;124m\"\u001b[39m\u001b[38;5;124mencoder.\u001b[39m\u001b[38;5;124m\"\u001b[39m \u001b[38;5;241m+\u001b[39m k] \u001b[38;5;241m=\u001b[39m unet_state_dict[k]\n",
      "\u001b[0;31mNameError\u001b[0m: name 'deepcopy' is not defined"
     ]
    }
   ],
   "source": [
    "\n",
    "# Modell Laden -----------------------------------------------------------------------------\n",
    "\n",
    "# Unet definieren\n",
    "\n",
    "if IM_PreTrain == False: \n",
    "    unet = smp.Unet(\n",
    "                \"resnet50\",\n",
    "                in_channels=1,\n",
    "                encoder_weights=None,\n",
    "                classes=2,\n",
    "            )\n",
    "\n",
    "if IM_PreTrain == True:\n",
    "    unet = smp.Unet(\n",
    "                \"resnet50\",\n",
    "                in_channels=1,\n",
    "                encoder_weights=\"imagenet\",\n",
    "                classes=2,\n",
    "            )\n",
    "\n",
    "# Vortrainierte Gewichte Laden --------------------------------------------------------------------------------\n",
    "if preTrain == True:\n",
    "    \n",
    "    state_dict = torch.load(pretrained_weights)  #pretrained_weights\n",
    "    if \"state_dict\" in state_dict:\n",
    "        state_dict = state_dict[\"state_dict\"]\n",
    "\n",
    "    # remove prefixe \"module.\" or \"model.\"\n",
    "    #Checkpoints als 'model.conv1.weight' gespeichert und Netzs als 'conv1.weight' -> model. entfernen\n",
    "    state_dict = {k.replace(\"model.\", \"\"): v for k, v in state_dict.items()} # Meine Checkpoints (model)\n",
    "    #state_dict = {k.replace(\"module.\", \"\"): v for k, v in state_dict.items()} # ImageNet PreTrian von swav (module) \n",
    "    \n",
    "    # For Unet\n",
    "    unet_state_dict = deepcopy(state_dict)\n",
    "    for k in list(unet_state_dict.keys()):\n",
    "        unet_state_dict[\"encoder.\" + k] = unet_state_dict[k]\n",
    "        del unet_state_dict[k]\n",
    "    \n",
    "\n",
    "    for k, v in unet.state_dict().items():\n",
    "        if k not in list(unet_state_dict):\n",
    "            print('key \"{}\" could not be found in provided state dict'.format(k))\n",
    "        elif unet_state_dict[k].shape != v.shape:\n",
    "            print('key \"{}\" is of different shape in model and provided state dict'.format(k))\n",
    "            unet_state_dict[k] = v\n",
    "    msg = unet.load_state_dict(unet_state_dict, strict=False)\n",
    "    print(\"Load pretrained model with msg: {}\".format(msg))\n",
    "\n"
   ]
  },
  {
   "cell_type": "code",
   "execution_count": 13,
   "id": "fd24659a-dcb5-4b00-9b8b-8a627e50448d",
   "metadata": {
    "pycharm": {
     "name": "#%%\n"
    }
   },
   "outputs": [],
   "source": [
    "class Net(pytorch_lightning.LightningModule): # Name: Net **1\n",
    "    \n",
    "    # Netz + Loss definieren\n",
    "    def __init__(self):\n",
    "        super().__init__()\n",
    "        \n",
    "        # Torch ResNet Model--------------------------------------\n",
    "        self.net = res_model\n",
    "        \n",
    "        # Letztes Layer weg -> unser Backbone\n",
    "        num_filters = self.net.fc.in_features\n",
    "        layers = list(self.net.children())[:-1]\n",
    "        self.backbone = torch.nn.Sequential(*layers)\n",
    "\n",
    "        # One Linear Layer to Classify\n",
    "        self.classifier = torch.nn.Linear(num_filters, n_classes)\n",
    "        \n",
    "        del self.net\n",
    "        \n",
    "        # Loss\n",
    "        self.loss_function = loss \n",
    "    \n",
    "\n",
    "    def forward(self, x):\n",
    "        \n",
    "        # Torch ResNet Model--------------------------------------\n",
    "        \n",
    "        x = self.backbone(x).flatten(1)\n",
    "        x = self.classifier(x)\n",
    "\n",
    "        return x\n",
    "\n",
    "\n",
    "    def prepare_data(self):\n",
    "        \n",
    "        #set_determinism(seed=0)\n",
    "        # Erstellt Dataset (Pfad in dem alle Bilder + lable liegen ([vol, class]) übergeben + Transforms (Augmentation) angeben) \n",
    "        self.train_ds = MedNISTDataset(train_x, train_y, train_transforms)\n",
    "        self.val_ds = MedNISTDataset(val_x, val_y, val_transforms)\n",
    "        self.test_ds = MedNISTDataset(test_x, test_y, val_transforms)\n",
    "        \n",
    "    def train_dataloader(self):\n",
    "        train_loader = torch.utils.data.DataLoader(self.train_ds, batch_size=bs, shuffle=True, num_workers=10)\n",
    "        print(\"Train Data Loader | Bs:\", bs, \"| len\",  len(train_loader), \"| ges\", bs*len(train_loader))\n",
    "        return train_loader\n",
    "\n",
    "    def val_dataloader(self):\n",
    "        val_loader = torch.utils.data.DataLoader(self.val_ds, batch_size=1, num_workers=10)\n",
    "        print(\"Val Data Loader\", len(val_loader))\n",
    "        return val_loader\n",
    "    \n",
    "    def test_dataloader(self): \n",
    "        test_loader = torch.utils.data.DataLoader(self.test_ds, batch_size=1, num_workers=10)\n",
    "        print(\"Test Data Loader\", len(test_loader))\n",
    "        return test_loader\n",
    "\n",
    "    def configure_optimizers(self):\n",
    "        if optim == \"Adam\":\n",
    "            optimizer = torch.optim.Adam(self.parameters(), lr, weight_decay = WeightDecay)\n",
    "        return optimizer\n",
    "\n",
    "    def training_step(self, batch, batch_idx): # batch: PT Dataset\n",
    "        images, labels= batch \n",
    "        \n",
    "        output = self.forward(images) \n",
    "        #print(\"Train Outputs\", output)\n",
    "        #print(\"Train Labels\", labels)\n",
    "        \n",
    "        loss = self.loss_function(output, labels) # cross entropy Loss\n",
    "        \n",
    "        # Wandb Logs\n",
    "        self.log(\"train/loss\", loss.item())\n",
    "\n",
    "        return {\"loss\": loss}\n",
    "    \n",
    "    def training_epoch_end(self, outputs): # outputs = Elemente im train Dataset  x {\"loss\": loss, \"log\": tensorboard_logs}\n",
    "        #print(\"All Train Losses\", outputs)\n",
    "        train_loss, num_items = 0, 0\n",
    "        \n",
    "        for output in outputs: # Durchläuft alle elemete im train Dataset \n",
    "            #print(\"Nummer:\", num_items)\n",
    "            \n",
    "            #print(\"Train Loss\", output[\"loss\"].sum().item())\n",
    "            train_loss += output[\"loss\"].sum().item() # Alle Losse aufaddieren \n",
    "            num_items += 1\n",
    "            \n",
    "        mean_train_loss = torch.tensor(train_loss / num_items) # mittlerer Loss\n",
    "        #print(\"Train Loss Mean\", mean_train_loss)\n",
    "        \n",
    "        # Wandb Logs\n",
    "        self.log(\"train/mean_loss\", mean_train_loss,)\n",
    "    \n",
    "\n",
    "    def validation_step(self, batch, batch_idx): # batch: von Data Loader\n",
    "        images, labels= batch # [1, 1, 48, 256, 256], [1] \n",
    "        #print(\"Val\", images.shape, labels.shape)\n",
    "        \n",
    "        #images = torch.rand(1,20,512,512).cuda()\n",
    "        \n",
    "        outputs = self.forward(images) # [4]\n",
    "        #print(\"Val Outputs\", outputs)\n",
    "        #print(\"Val Labels\", labels)\n",
    "        \n",
    "        klasse = torch.argmax(outputs, dim=1)\n",
    "        \n",
    "        loss = self.loss_function(outputs, labels)\n",
    "        \n",
    "        return {\"val_loss\": loss, \"targets\": labels, \"preds\": klasse}\n",
    "    \n",
    "\n",
    "    def validation_epoch_end(self, outputs): # outputs = Elemente im Val Dataset x {\"val_loss\": loss}\n",
    "        #print(\"All Val Losses\", outputs)\n",
    "        val_loss, num_items, true, false = 0, 0, 0, 0 \n",
    "        \n",
    "        \n",
    "        for output in outputs: # Durchläuft alle elemete im Val Dataset \n",
    "            #print(\"Nummer:\", num_items)\n",
    "            \n",
    "            #print(\"Val Loss\", output[\"val_loss\"].sum().item())\n",
    "            val_loss += output[\"val_loss\"].sum().item() # Alles Losse aufaddieren \n",
    "            num_items += 1\n",
    "            \n",
    "            if output[\"preds\"] == output[\"targets\"]: # wenn Index mit höchster Wahrschl. == richtige Klasse -> richtig klassifiziert\n",
    "                true += 1\n",
    "            else:\n",
    "                false += 1\n",
    "            \n",
    "        mean_val_loss = torch.tensor(val_loss / num_items) # mittlerer Loss\n",
    "        #print(\"Val Loss Mean\", mean_val_loss)\n",
    "        \n",
    "        # Accurancy\n",
    "        acc = torch.tensor(true / num_items)\n",
    "        \n",
    "        # Wandb Logs \n",
    "        self.log(\"val/loss\", mean_val_loss)\n",
    "        self.log(\"val/accuracy\", acc)\n",
    "        \n",
    "\n",
    "    \n",
    "    def test_step(self, batch, batch_idx): # batch: von Data Loader\n",
    "        images, labels = batch # [1, 1, 48, 256, 256], [1] \n",
    "        #print(\"Test\", images.shape, labels.shape)\n",
    "        \n",
    "        outputs = self.forward(images) # [4]\n",
    "        outputs = torch.nn.functional.softmax(outputs)\n",
    "        #print(\"Test Outputs\", outputs.shape)\n",
    "        #print(\"Test Labels\", labels.shape)\n",
    "        \n",
    "        klasse = torch.argmax(outputs, dim=1)\n",
    "        #print(\"Test Predict\", klasse)\n",
    "        \n",
    "        loss = self.loss_function(outputs, labels)\n",
    "        #print(\"Test Loss\", loss.item())\n",
    "        \n",
    "        return {\"test_loss\": loss, \"output\": outputs, \"lable\": labels, \"klasse\": klasse} \n",
    "    \n",
    "    \n",
    "    def test_epoch_end(self, outputs): # outputs = Elemente im Val Dataset  x {\"test_loss\": loss, \"output\": outputs, \"lable\": labels, \"klasse\": klasse, \"Name\": name}\n",
    "        #print(\"All Test Losses\", outputs)\n",
    "        \n",
    "        test_loss, true, false, num_items = 0, 0, 0, 0\n",
    "        \n",
    "        output_list = np.array([])\n",
    "        lable_list = np.array([])\n",
    "        output_prob_1 = np.array([])\n",
    "        output_prob_0 = np.array([])\n",
    "        output_prob = np.array([])\n",
    "        \n",
    "        i = 0\n",
    "        for output in outputs: # Durchläuft alle elemete im Test Dataset \n",
    "            #print(\"Nummer:\", num_items)\n",
    "            \n",
    "            #print(\"Test Loss\", output[\"test_loss\"])\n",
    "            test_loss += output[\"test_loss\"] # alles Losse aufadieren\n",
    "            num_items += 1\n",
    "            \n",
    "            output_hold = output[\"klasse\"].cpu().detach()\n",
    "            #print(output_hold)\n",
    "            lable_hold = output[\"lable\"].cpu().detach()\n",
    "            #print(lable_hold)\n",
    "            output_prob_hold = output[\"output\"].cpu().detach()\n",
    "            \n",
    "            output_list = np.append(output_list, output_hold) # Predicted Class 0...5\n",
    "            lable_list = np.append(lable_list, lable_hold) # Lable Class 0...5\n",
    "\n",
    "            \n",
    "            #print(output[\"Name\"])\n",
    "            #print(\"Test Output\", output[\"klasse\"]) # One hot (hier nicht nötig: torch.nn.functional.one_hot(output[\"klasse\"], 2))\n",
    "            #print(\"Test Lable\", output[\"lable\"])\n",
    "            \n",
    "            if output[\"klasse\"] == output[\"lable\"]: # wenn Index mit höchster Wahrschl. == richtige Klasse -> richtig klassifiziert\n",
    "                true += 1\n",
    "            else:\n",
    "                false += 1\n",
    "            i+=1\n",
    "        \n",
    "        # __________ DOKU ____________________________\n",
    "        \n",
    "        # Output Networtk, Lables\n",
    "\n",
    "        \n",
    "        # Anzahl richtig klassifiezert\n",
    "        print(\"\\n\" + \"True\", true) \n",
    "        print(\"False\", false)\n",
    "        \n",
    "        # Accurancy\n",
    "        acc = torch.tensor(true / num_items) \n",
    "        print(\"\\n\" + \"acc\", acc)\n",
    "        \n",
    "        # Mean Loss\n",
    "        mean_test_loss = torch.tensor(test_loss / num_items) # mittlerer Loss\n",
    "        #print(\"\\n\" + \"mean_loss\", mean_test_loss)\n",
    "        \n",
    "        # Confusion Matrix (output_list, lable_list: torch tensors mit den ausgaben des Netztes und den Lablen für alle Patienten in Testset)\n",
    "        #print(\"\\n\" + \"Confution Matrix\")\n",
    "        cm = confusion_matrix(lable_list, output_list)\n",
    "        #print(cm)\n",
    "        \n",
    "        # Precision\n",
    "        #print(\"\\n\" + \"Precision Score Classes: \")\n",
    "        # print(list(preprocessing.LabelEncoder.classes_))\n",
    "        score01 = precision_score(lable_list, output_list, average=None)\n",
    "        print(\"precision_score\", score01)\n",
    "        \n",
    "        # Report: Precision, Recall, F-Score\n",
    "        print(\"\\n\" +\"Classification Report: \")\n",
    "        score01 = classification_report(lable_list, output_list)\n",
    "        print(score01)\n",
    "        \n",
    "        # Display Confusion Matric nicer\n",
    "        disp = ConfusionMatrixDisplay(confusion_matrix=cm,)\n",
    "        disp.plot(cmap=\"Blues\")\n",
    "        \n",
    "        # Sensitivity = true positive rate = TruePositive / (TruePositive + FalseNegative); Specificity = TrueNegative / (FalsePositive + TrueNegative)\n",
    "        # G-Mean = sqrt(Sensitivity * Specificity), Geometric Mean will seek a balance between the sensitivity and the specificity\n",
    "        # fpr(=false positive rate), tpr(=true positive rate =Sensitivity) , thresholds (differtent thresholds [normal: <0.5=0; >0.5=1] jetzt 0.1 0.2 0.3 ... bei denen die fpr und tps gemessen wird)\n",
    "        \n",
    "        # fpr(=false positive rate), tpr(=true positive rate =Sensitivity) , thresholds (differtent thresholds [normal: <0.5=0; >0.5=1] jetzt 0.1 0.2 0.3 ... bei denen die fpr und tps gemessen wird)\n",
    "#         fpr, tpr, thresholds = roc_curve(lable_list, output_prob_1, sample_weight=None) # Wahrscheinlichkeiten der Klasse die seltener vorkommt\n",
    "#         print(\"fpr\", fpr)\n",
    "#         print(\"tpr\", tpr)\n",
    "#         roc_auc = auc(fpr, tpr)\n",
    "#         print(\"AUC\")\n",
    "#         print(roc_auc)\n",
    "        \n",
    "#         # Perfekt threshold to take, instead of threshold 0.5\n",
    "#         gmeans = np.sqrt(tpr * (1-fpr))\n",
    "#         ix = np.argmax(gmeans)\n",
    "#         print(\"Threshold\", thresholds[ix], \"tpr Value\", gmeans[ix])\n",
    "        \n",
    "#         display = RocCurveDisplay(fpr=fpr, tpr=tpr, roc_auc=roc_auc, estimator_name='')\n",
    "#         #display.plot()\n",
    "        \n",
    "#         f, ax = plt.subplots(figsize=(15, 9))\n",
    "#         plt.plot([0,1],[0,1], 'k--')\n",
    "#         plt.plot(fpr, tpr, label= \"DaniNet\")\n",
    "#         plt.legend()\n",
    "#         plt.xlabel(\"FPR\")\n",
    "#         plt.ylabel(\"TPR\")\n",
    "#         plt.title('Receiver Operating Characteristic')\n",
    "#         plt.show()\n",
    "        \n",
    "        # Wandb Logs\n",
    "        self.log(\"test/loss\", mean_test_loss)\n",
    "        self.log(\"test/acc\", acc)\n",
    "        "
   ]
  },
  {
   "cell_type": "code",
   "execution_count": 14,
   "id": "75082d73-2a90-4846-bc1f-226ea34e0419",
   "metadata": {
    "pycharm": {
     "name": "#%%\n"
    }
   },
   "outputs": [
    {
     "name": "stdout",
     "output_type": "stream",
     "text": [
      "Successfully created path /home/wolfda/Data/Covid-Classification/Results/Dwonstrem_Covid_class/First_LIDC_Covid_SwAV_1-1\n",
      "=================================================================\n",
      "Layer (type:depth-idx)                   Param #\n",
      "=================================================================\n",
      "├─Sequential: 1-1                        --\n",
      "|    └─Conv2d: 2-1                       9,408\n",
      "|    └─BatchNorm2d: 2-2                  128\n",
      "|    └─ReLU: 2-3                         --\n",
      "|    └─MaxPool2d: 2-4                    --\n",
      "|    └─Sequential: 2-5                   --\n",
      "|    |    └─Bottleneck: 3-1              75,008\n",
      "|    |    └─Bottleneck: 3-2              70,400\n",
      "|    |    └─Bottleneck: 3-3              70,400\n",
      "|    └─Sequential: 2-6                   --\n",
      "|    |    └─Bottleneck: 3-4              379,392\n",
      "|    |    └─Bottleneck: 3-5              280,064\n",
      "|    |    └─Bottleneck: 3-6              280,064\n",
      "|    |    └─Bottleneck: 3-7              280,064\n",
      "|    └─Sequential: 2-7                   --\n",
      "|    |    └─Bottleneck: 3-8              1,512,448\n",
      "|    |    └─Bottleneck: 3-9              1,117,184\n",
      "|    |    └─Bottleneck: 3-10             1,117,184\n",
      "|    |    └─Bottleneck: 3-11             1,117,184\n",
      "|    |    └─Bottleneck: 3-12             1,117,184\n",
      "|    |    └─Bottleneck: 3-13             1,117,184\n",
      "|    └─Sequential: 2-8                   --\n",
      "|    |    └─Bottleneck: 3-14             6,039,552\n",
      "|    |    └─Bottleneck: 3-15             4,462,592\n",
      "|    |    └─Bottleneck: 3-16             4,462,592\n",
      "|    └─AdaptiveAvgPool2d: 2-9            --\n",
      "├─Linear: 1-2                            4,098\n",
      "├─CrossEntropyLoss: 1-3                  --\n",
      "=================================================================\n",
      "Total params: 23,512,130\n",
      "Trainable params: 23,512,130\n",
      "Non-trainable params: 0\n",
      "=================================================================\n",
      "=================================================================\n",
      "Layer (type:depth-idx)                   Param #\n",
      "=================================================================\n",
      "├─Sequential: 1-1                        --\n",
      "|    └─Conv2d: 2-1                       9,408\n",
      "|    └─BatchNorm2d: 2-2                  128\n",
      "|    └─ReLU: 2-3                         --\n",
      "|    └─MaxPool2d: 2-4                    --\n",
      "|    └─Sequential: 2-5                   --\n",
      "|    |    └─Bottleneck: 3-1              75,008\n",
      "|    |    └─Bottleneck: 3-2              70,400\n",
      "|    |    └─Bottleneck: 3-3              70,400\n",
      "|    └─Sequential: 2-6                   --\n",
      "|    |    └─Bottleneck: 3-4              379,392\n",
      "|    |    └─Bottleneck: 3-5              280,064\n",
      "|    |    └─Bottleneck: 3-6              280,064\n",
      "|    |    └─Bottleneck: 3-7              280,064\n",
      "|    └─Sequential: 2-7                   --\n",
      "|    |    └─Bottleneck: 3-8              1,512,448\n",
      "|    |    └─Bottleneck: 3-9              1,117,184\n",
      "|    |    └─Bottleneck: 3-10             1,117,184\n",
      "|    |    └─Bottleneck: 3-11             1,117,184\n",
      "|    |    └─Bottleneck: 3-12             1,117,184\n",
      "|    |    └─Bottleneck: 3-13             1,117,184\n",
      "|    └─Sequential: 2-8                   --\n",
      "|    |    └─Bottleneck: 3-14             6,039,552\n",
      "|    |    └─Bottleneck: 3-15             4,462,592\n",
      "|    |    └─Bottleneck: 3-16             4,462,592\n",
      "|    └─AdaptiveAvgPool2d: 2-9            --\n",
      "├─Linear: 1-2                            4,098\n",
      "├─CrossEntropyLoss: 1-3                  --\n",
      "=================================================================\n",
      "Total params: 23,512,130\n",
      "Trainable params: 23,512,130\n",
      "Non-trainable params: 0\n",
      "=================================================================\n"
     ]
    },
    {
     "name": "stderr",
     "output_type": "stream",
     "text": [
      "/home/wolfda/anaconda3/envs/Monai3/lib/python3.9/site-packages/pytorch_lightning/trainer/connectors/accelerator_connector.py:446: LightningDeprecationWarning: Setting `Trainer(gpus=1)` is deprecated in v1.7 and will be removed in v2.0. Please use `Trainer(accelerator='gpu', devices=1)` instead.\n",
      "  rank_zero_deprecation(\n",
      "GPU available: True (cuda), used: True\n",
      "TPU available: False, using: 0 TPU cores\n",
      "IPU available: False, using: 0 IPUs\n",
      "HPU available: False, using: 0 HPUs\n",
      "\u001b[34m\u001b[1mwandb\u001b[0m: Currently logged in as: \u001b[33mwolfda95\u001b[0m (use `wandb login --relogin` to force relogin)\n",
      "\u001b[34m\u001b[1mwandb\u001b[0m: wandb version 0.13.4 is available!  To upgrade, please run:\n",
      "\u001b[34m\u001b[1mwandb\u001b[0m:  $ pip install wandb --upgrade\n"
     ]
    },
    {
     "data": {
      "text/html": [
       "\n",
       "                    Syncing run <strong><a href=\"https://wandb.ai/wolfda95/Dwonstrem_Covid_class/runs/3r74a8ou\" target=\"_blank\">First_LIDC_Covid_SwAV_1-1</a></strong> to <a href=\"https://wandb.ai/wolfda95/Dwonstrem_Covid_class\" target=\"_blank\">Weights & Biases</a> (<a href=\"https://docs.wandb.com/integrations/jupyter.html\" target=\"_blank\">docs</a>).<br/>\n",
       "\n",
       "                "
      ],
      "text/plain": [
       "<IPython.core.display.HTML object>"
      ]
     },
     "metadata": {},
     "output_type": "display_data"
    },
    {
     "name": "stderr",
     "output_type": "stream",
     "text": [
      "/home/wolfda/anaconda3/envs/Monai3/lib/python3.9/site-packages/pytorch_lightning/callbacks/model_checkpoint.py:616: UserWarning: Checkpoint directory /home/wolfda/Data/Covid-Classification/Results/Dwonstrem_Covid_class/First_LIDC_Covid_SwAV_1-1 exists and is not empty.\n",
      "  rank_zero_warn(f\"Checkpoint directory {dirpath} exists and is not empty.\")\n",
      "LOCAL_RANK: 0 - CUDA_VISIBLE_DEVICES: [0]\n",
      "\n",
      "  | Name          | Type             | Params\n",
      "---------------------------------------------------\n",
      "0 | backbone      | Sequential       | 23.5 M\n",
      "1 | classifier    | Linear           | 4.1 K \n",
      "2 | loss_function | CrossEntropyLoss | 0     \n",
      "---------------------------------------------------\n",
      "57.2 K    Trainable params\n",
      "23.5 M    Non-trainable params\n",
      "23.5 M    Total params\n",
      "94.049    Total estimated model params size (MB)\n"
     ]
    },
    {
     "data": {
      "application/vnd.jupyter.widget-view+json": {
       "model_id": "",
       "version_major": 2,
       "version_minor": 0
      },
      "text/plain": [
       "Sanity Checking: 0it [00:00, ?it/s]"
      ]
     },
     "metadata": {},
     "output_type": "display_data"
    },
    {
     "name": "stdout",
     "output_type": "stream",
     "text": [
      "Val Data Loader 111\n",
      "Train Data Loader | Bs: 64 | len 9 | ges 576\n"
     ]
    },
    {
     "name": "stderr",
     "output_type": "stream",
     "text": [
      "/home/wolfda/anaconda3/envs/Monai3/lib/python3.9/site-packages/torch/nn/functional.py:718: UserWarning: Named tensors and all their associated APIs are an experimental feature and subject to change. Please do not use them for anything important until they are released as stable. (Triggered internally at  /opt/conda/conda-bld/pytorch_1623448255797/work/c10/core/TensorImpl.h:1156.)\n",
      "  return torch.max_pool2d(input, kernel_size, stride, padding, dilation, ceil_mode)\n",
      "/home/wolfda/anaconda3/envs/Monai3/lib/python3.9/site-packages/pytorch_lightning/trainer/trainer.py:1894: PossibleUserWarning: The number of training batches (9) is smaller than the logging interval Trainer(log_every_n_steps=50). Set a lower value for log_every_n_steps if you want to see logs for the training epoch.\n",
      "  rank_zero_warn(\n"
     ]
    },
    {
     "data": {
      "application/vnd.jupyter.widget-view+json": {
       "model_id": "02e17deb193d471db65eff7419f86dd1",
       "version_major": 2,
       "version_minor": 0
      },
      "text/plain": [
       "Training: 0it [00:00, ?it/s]"
      ]
     },
     "metadata": {},
     "output_type": "display_data"
    },
    {
     "data": {
      "application/vnd.jupyter.widget-view+json": {
       "model_id": "",
       "version_major": 2,
       "version_minor": 0
      },
      "text/plain": [
       "Validation: 0it [00:00, ?it/s]"
      ]
     },
     "metadata": {},
     "output_type": "display_data"
    },
    {
     "data": {
      "application/vnd.jupyter.widget-view+json": {
       "model_id": "",
       "version_major": 2,
       "version_minor": 0
      },
      "text/plain": [
       "Validation: 0it [00:00, ?it/s]"
      ]
     },
     "metadata": {},
     "output_type": "display_data"
    },
    {
     "data": {
      "application/vnd.jupyter.widget-view+json": {
       "model_id": "",
       "version_major": 2,
       "version_minor": 0
      },
      "text/plain": [
       "Validation: 0it [00:00, ?it/s]"
      ]
     },
     "metadata": {},
     "output_type": "display_data"
    },
    {
     "data": {
      "application/vnd.jupyter.widget-view+json": {
       "model_id": "",
       "version_major": 2,
       "version_minor": 0
      },
      "text/plain": [
       "Validation: 0it [00:00, ?it/s]"
      ]
     },
     "metadata": {},
     "output_type": "display_data"
    },
    {
     "data": {
      "application/vnd.jupyter.widget-view+json": {
       "model_id": "",
       "version_major": 2,
       "version_minor": 0
      },
      "text/plain": [
       "Validation: 0it [00:00, ?it/s]"
      ]
     },
     "metadata": {},
     "output_type": "display_data"
    },
    {
     "data": {
      "application/vnd.jupyter.widget-view+json": {
       "model_id": "",
       "version_major": 2,
       "version_minor": 0
      },
      "text/plain": [
       "Validation: 0it [00:00, ?it/s]"
      ]
     },
     "metadata": {},
     "output_type": "display_data"
    },
    {
     "data": {
      "application/vnd.jupyter.widget-view+json": {
       "model_id": "",
       "version_major": 2,
       "version_minor": 0
      },
      "text/plain": [
       "Validation: 0it [00:00, ?it/s]"
      ]
     },
     "metadata": {},
     "output_type": "display_data"
    },
    {
     "data": {
      "application/vnd.jupyter.widget-view+json": {
       "model_id": "",
       "version_major": 2,
       "version_minor": 0
      },
      "text/plain": [
       "Validation: 0it [00:00, ?it/s]"
      ]
     },
     "metadata": {},
     "output_type": "display_data"
    },
    {
     "data": {
      "application/vnd.jupyter.widget-view+json": {
       "model_id": "",
       "version_major": 2,
       "version_minor": 0
      },
      "text/plain": [
       "Validation: 0it [00:00, ?it/s]"
      ]
     },
     "metadata": {},
     "output_type": "display_data"
    },
    {
     "data": {
      "application/vnd.jupyter.widget-view+json": {
       "model_id": "",
       "version_major": 2,
       "version_minor": 0
      },
      "text/plain": [
       "Validation: 0it [00:00, ?it/s]"
      ]
     },
     "metadata": {},
     "output_type": "display_data"
    },
    {
     "name": "stderr",
     "output_type": "stream",
     "text": [
      "/home/wolfda/anaconda3/envs/Monai3/lib/python3.9/site-packages/pytorch_lightning/callbacks/finetuning.py:211: UserWarning: The provided params to be frozen already exist within another group of this optimizer. Those parameters will be skipped.\n",
      "HINT: Did you init your optimizer in `configure_optimizer` as such:\n",
      " <class 'torch.optim.adam.Adam'>(filter(lambda p: p.requires_grad, self.parameters()), ...) \n",
      "  rank_zero_warn(\n"
     ]
    },
    {
     "data": {
      "application/vnd.jupyter.widget-view+json": {
       "model_id": "",
       "version_major": 2,
       "version_minor": 0
      },
      "text/plain": [
       "Validation: 0it [00:00, ?it/s]"
      ]
     },
     "metadata": {},
     "output_type": "display_data"
    },
    {
     "name": "stderr",
     "output_type": "stream",
     "text": [
      "/home/wolfda/PycharmProjects/contrastive_pretrain_lightning_bolts/pl_bolts/models/self_supervised/swav/wandb_callbacks.py:163: RuntimeWarning: More than 20 figures have been opened. Figures created through the pyplot interface (`matplotlib.pyplot.figure`) are retained until explicitly closed and may consume too much memory. (To control this warning, see the rcParam `figure.max_open_warning`).\n",
      "  plt.figure(figsize=(14, 8))\n"
     ]
    },
    {
     "data": {
      "application/vnd.jupyter.widget-view+json": {
       "model_id": "",
       "version_major": 2,
       "version_minor": 0
      },
      "text/plain": [
       "Validation: 0it [00:00, ?it/s]"
      ]
     },
     "metadata": {},
     "output_type": "display_data"
    },
    {
     "data": {
      "application/vnd.jupyter.widget-view+json": {
       "model_id": "",
       "version_major": 2,
       "version_minor": 0
      },
      "text/plain": [
       "Validation: 0it [00:00, ?it/s]"
      ]
     },
     "metadata": {},
     "output_type": "display_data"
    },
    {
     "data": {
      "application/vnd.jupyter.widget-view+json": {
       "model_id": "",
       "version_major": 2,
       "version_minor": 0
      },
      "text/plain": [
       "Validation: 0it [00:00, ?it/s]"
      ]
     },
     "metadata": {},
     "output_type": "display_data"
    },
    {
     "data": {
      "application/vnd.jupyter.widget-view+json": {
       "model_id": "",
       "version_major": 2,
       "version_minor": 0
      },
      "text/plain": [
       "Validation: 0it [00:00, ?it/s]"
      ]
     },
     "metadata": {},
     "output_type": "display_data"
    },
    {
     "data": {
      "application/vnd.jupyter.widget-view+json": {
       "model_id": "",
       "version_major": 2,
       "version_minor": 0
      },
      "text/plain": [
       "Validation: 0it [00:00, ?it/s]"
      ]
     },
     "metadata": {},
     "output_type": "display_data"
    },
    {
     "data": {
      "application/vnd.jupyter.widget-view+json": {
       "model_id": "",
       "version_major": 2,
       "version_minor": 0
      },
      "text/plain": [
       "Validation: 0it [00:00, ?it/s]"
      ]
     },
     "metadata": {},
     "output_type": "display_data"
    },
    {
     "data": {
      "application/vnd.jupyter.widget-view+json": {
       "model_id": "",
       "version_major": 2,
       "version_minor": 0
      },
      "text/plain": [
       "Validation: 0it [00:00, ?it/s]"
      ]
     },
     "metadata": {},
     "output_type": "display_data"
    },
    {
     "data": {
      "application/vnd.jupyter.widget-view+json": {
       "model_id": "",
       "version_major": 2,
       "version_minor": 0
      },
      "text/plain": [
       "Validation: 0it [00:00, ?it/s]"
      ]
     },
     "metadata": {},
     "output_type": "display_data"
    },
    {
     "data": {
      "application/vnd.jupyter.widget-view+json": {
       "model_id": "",
       "version_major": 2,
       "version_minor": 0
      },
      "text/plain": [
       "Validation: 0it [00:00, ?it/s]"
      ]
     },
     "metadata": {},
     "output_type": "display_data"
    },
    {
     "data": {
      "application/vnd.jupyter.widget-view+json": {
       "model_id": "",
       "version_major": 2,
       "version_minor": 0
      },
      "text/plain": [
       "Validation: 0it [00:00, ?it/s]"
      ]
     },
     "metadata": {},
     "output_type": "display_data"
    },
    {
     "data": {
      "application/vnd.jupyter.widget-view+json": {
       "model_id": "",
       "version_major": 2,
       "version_minor": 0
      },
      "text/plain": [
       "Validation: 0it [00:00, ?it/s]"
      ]
     },
     "metadata": {},
     "output_type": "display_data"
    },
    {
     "data": {
      "application/vnd.jupyter.widget-view+json": {
       "model_id": "",
       "version_major": 2,
       "version_minor": 0
      },
      "text/plain": [
       "Validation: 0it [00:00, ?it/s]"
      ]
     },
     "metadata": {},
     "output_type": "display_data"
    },
    {
     "data": {
      "application/vnd.jupyter.widget-view+json": {
       "model_id": "",
       "version_major": 2,
       "version_minor": 0
      },
      "text/plain": [
       "Validation: 0it [00:00, ?it/s]"
      ]
     },
     "metadata": {},
     "output_type": "display_data"
    },
    {
     "data": {
      "application/vnd.jupyter.widget-view+json": {
       "model_id": "",
       "version_major": 2,
       "version_minor": 0
      },
      "text/plain": [
       "Validation: 0it [00:00, ?it/s]"
      ]
     },
     "metadata": {},
     "output_type": "display_data"
    },
    {
     "data": {
      "application/vnd.jupyter.widget-view+json": {
       "model_id": "",
       "version_major": 2,
       "version_minor": 0
      },
      "text/plain": [
       "Validation: 0it [00:00, ?it/s]"
      ]
     },
     "metadata": {},
     "output_type": "display_data"
    },
    {
     "data": {
      "application/vnd.jupyter.widget-view+json": {
       "model_id": "",
       "version_major": 2,
       "version_minor": 0
      },
      "text/plain": [
       "Validation: 0it [00:00, ?it/s]"
      ]
     },
     "metadata": {},
     "output_type": "display_data"
    },
    {
     "data": {
      "application/vnd.jupyter.widget-view+json": {
       "model_id": "",
       "version_major": 2,
       "version_minor": 0
      },
      "text/plain": [
       "Validation: 0it [00:00, ?it/s]"
      ]
     },
     "metadata": {},
     "output_type": "display_data"
    },
    {
     "data": {
      "application/vnd.jupyter.widget-view+json": {
       "model_id": "",
       "version_major": 2,
       "version_minor": 0
      },
      "text/plain": [
       "Validation: 0it [00:00, ?it/s]"
      ]
     },
     "metadata": {},
     "output_type": "display_data"
    },
    {
     "data": {
      "application/vnd.jupyter.widget-view+json": {
       "model_id": "",
       "version_major": 2,
       "version_minor": 0
      },
      "text/plain": [
       "Validation: 0it [00:00, ?it/s]"
      ]
     },
     "metadata": {},
     "output_type": "display_data"
    },
    {
     "data": {
      "application/vnd.jupyter.widget-view+json": {
       "model_id": "",
       "version_major": 2,
       "version_minor": 0
      },
      "text/plain": [
       "Validation: 0it [00:00, ?it/s]"
      ]
     },
     "metadata": {},
     "output_type": "display_data"
    },
    {
     "data": {
      "application/vnd.jupyter.widget-view+json": {
       "model_id": "",
       "version_major": 2,
       "version_minor": 0
      },
      "text/plain": [
       "Validation: 0it [00:00, ?it/s]"
      ]
     },
     "metadata": {},
     "output_type": "display_data"
    },
    {
     "data": {
      "application/vnd.jupyter.widget-view+json": {
       "model_id": "",
       "version_major": 2,
       "version_minor": 0
      },
      "text/plain": [
       "Validation: 0it [00:00, ?it/s]"
      ]
     },
     "metadata": {},
     "output_type": "display_data"
    },
    {
     "data": {
      "application/vnd.jupyter.widget-view+json": {
       "model_id": "",
       "version_major": 2,
       "version_minor": 0
      },
      "text/plain": [
       "Validation: 0it [00:00, ?it/s]"
      ]
     },
     "metadata": {},
     "output_type": "display_data"
    },
    {
     "data": {
      "application/vnd.jupyter.widget-view+json": {
       "model_id": "",
       "version_major": 2,
       "version_minor": 0
      },
      "text/plain": [
       "Validation: 0it [00:00, ?it/s]"
      ]
     },
     "metadata": {},
     "output_type": "display_data"
    },
    {
     "data": {
      "application/vnd.jupyter.widget-view+json": {
       "model_id": "",
       "version_major": 2,
       "version_minor": 0
      },
      "text/plain": [
       "Validation: 0it [00:00, ?it/s]"
      ]
     },
     "metadata": {},
     "output_type": "display_data"
    },
    {
     "data": {
      "application/vnd.jupyter.widget-view+json": {
       "model_id": "",
       "version_major": 2,
       "version_minor": 0
      },
      "text/plain": [
       "Validation: 0it [00:00, ?it/s]"
      ]
     },
     "metadata": {},
     "output_type": "display_data"
    },
    {
     "data": {
      "application/vnd.jupyter.widget-view+json": {
       "model_id": "",
       "version_major": 2,
       "version_minor": 0
      },
      "text/plain": [
       "Validation: 0it [00:00, ?it/s]"
      ]
     },
     "metadata": {},
     "output_type": "display_data"
    },
    {
     "data": {
      "application/vnd.jupyter.widget-view+json": {
       "model_id": "",
       "version_major": 2,
       "version_minor": 0
      },
      "text/plain": [
       "Validation: 0it [00:00, ?it/s]"
      ]
     },
     "metadata": {},
     "output_type": "display_data"
    },
    {
     "data": {
      "application/vnd.jupyter.widget-view+json": {
       "model_id": "",
       "version_major": 2,
       "version_minor": 0
      },
      "text/plain": [
       "Validation: 0it [00:00, ?it/s]"
      ]
     },
     "metadata": {},
     "output_type": "display_data"
    },
    {
     "data": {
      "application/vnd.jupyter.widget-view+json": {
       "model_id": "",
       "version_major": 2,
       "version_minor": 0
      },
      "text/plain": [
       "Validation: 0it [00:00, ?it/s]"
      ]
     },
     "metadata": {},
     "output_type": "display_data"
    },
    {
     "data": {
      "application/vnd.jupyter.widget-view+json": {
       "model_id": "",
       "version_major": 2,
       "version_minor": 0
      },
      "text/plain": [
       "Validation: 0it [00:00, ?it/s]"
      ]
     },
     "metadata": {},
     "output_type": "display_data"
    },
    {
     "data": {
      "application/vnd.jupyter.widget-view+json": {
       "model_id": "",
       "version_major": 2,
       "version_minor": 0
      },
      "text/plain": [
       "Validation: 0it [00:00, ?it/s]"
      ]
     },
     "metadata": {},
     "output_type": "display_data"
    },
    {
     "data": {
      "application/vnd.jupyter.widget-view+json": {
       "model_id": "",
       "version_major": 2,
       "version_minor": 0
      },
      "text/plain": [
       "Validation: 0it [00:00, ?it/s]"
      ]
     },
     "metadata": {},
     "output_type": "display_data"
    },
    {
     "data": {
      "application/vnd.jupyter.widget-view+json": {
       "model_id": "",
       "version_major": 2,
       "version_minor": 0
      },
      "text/plain": [
       "Validation: 0it [00:00, ?it/s]"
      ]
     },
     "metadata": {},
     "output_type": "display_data"
    },
    {
     "data": {
      "application/vnd.jupyter.widget-view+json": {
       "model_id": "",
       "version_major": 2,
       "version_minor": 0
      },
      "text/plain": [
       "Validation: 0it [00:00, ?it/s]"
      ]
     },
     "metadata": {},
     "output_type": "display_data"
    },
    {
     "data": {
      "application/vnd.jupyter.widget-view+json": {
       "model_id": "",
       "version_major": 2,
       "version_minor": 0
      },
      "text/plain": [
       "Validation: 0it [00:00, ?it/s]"
      ]
     },
     "metadata": {},
     "output_type": "display_data"
    },
    {
     "data": {
      "application/vnd.jupyter.widget-view+json": {
       "model_id": "",
       "version_major": 2,
       "version_minor": 0
      },
      "text/plain": [
       "Validation: 0it [00:00, ?it/s]"
      ]
     },
     "metadata": {},
     "output_type": "display_data"
    },
    {
     "data": {
      "application/vnd.jupyter.widget-view+json": {
       "model_id": "",
       "version_major": 2,
       "version_minor": 0
      },
      "text/plain": [
       "Validation: 0it [00:00, ?it/s]"
      ]
     },
     "metadata": {},
     "output_type": "display_data"
    },
    {
     "data": {
      "application/vnd.jupyter.widget-view+json": {
       "model_id": "",
       "version_major": 2,
       "version_minor": 0
      },
      "text/plain": [
       "Validation: 0it [00:00, ?it/s]"
      ]
     },
     "metadata": {},
     "output_type": "display_data"
    },
    {
     "data": {
      "application/vnd.jupyter.widget-view+json": {
       "model_id": "",
       "version_major": 2,
       "version_minor": 0
      },
      "text/plain": [
       "Validation: 0it [00:00, ?it/s]"
      ]
     },
     "metadata": {},
     "output_type": "display_data"
    },
    {
     "data": {
      "application/vnd.jupyter.widget-view+json": {
       "model_id": "",
       "version_major": 2,
       "version_minor": 0
      },
      "text/plain": [
       "Validation: 0it [00:00, ?it/s]"
      ]
     },
     "metadata": {},
     "output_type": "display_data"
    },
    {
     "data": {
      "application/vnd.jupyter.widget-view+json": {
       "model_id": "",
       "version_major": 2,
       "version_minor": 0
      },
      "text/plain": [
       "Validation: 0it [00:00, ?it/s]"
      ]
     },
     "metadata": {},
     "output_type": "display_data"
    },
    {
     "data": {
      "application/vnd.jupyter.widget-view+json": {
       "model_id": "",
       "version_major": 2,
       "version_minor": 0
      },
      "text/plain": [
       "Validation: 0it [00:00, ?it/s]"
      ]
     },
     "metadata": {},
     "output_type": "display_data"
    },
    {
     "data": {
      "application/vnd.jupyter.widget-view+json": {
       "model_id": "",
       "version_major": 2,
       "version_minor": 0
      },
      "text/plain": [
       "Validation: 0it [00:00, ?it/s]"
      ]
     },
     "metadata": {},
     "output_type": "display_data"
    },
    {
     "name": "stderr",
     "output_type": "stream",
     "text": [
      "`Trainer.fit` stopped: `max_epochs=55` reached.\n",
      "LOCAL_RANK: 0 - CUDA_VISIBLE_DEVICES: [0]\n"
     ]
    },
    {
     "name": "stdout",
     "output_type": "stream",
     "text": [
      "Test Data Loader 111\n"
     ]
    },
    {
     "data": {
      "application/vnd.jupyter.widget-view+json": {
       "model_id": "7a2530a632954778a9ec090dfe0e7b01",
       "version_major": 2,
       "version_minor": 0
      },
      "text/plain": [
       "Testing: 0it [00:00, ?it/s]"
      ]
     },
     "metadata": {},
     "output_type": "display_data"
    },
    {
     "name": "stderr",
     "output_type": "stream",
     "text": [
      "/tmp/ipykernel_2026410/4173107787.py:145: UserWarning: Implicit dimension choice for softmax has been deprecated. Change the call to include dim=X as an argument.\n",
      "  outputs = torch.nn.functional.softmax(outputs)\n"
     ]
    },
    {
     "name": "stdout",
     "output_type": "stream",
     "text": [
      "\n",
      "True 85\n",
      "False 26\n",
      "\n",
      "acc tensor(0.7658)\n",
      "precision_score [0.87179487 0.70833333]\n",
      "\n",
      "Classification Report: \n",
      "              precision    recall  f1-score   support\n",
      "\n",
      "         0.0       0.87      0.62      0.72        55\n",
      "         1.0       0.71      0.91      0.80        56\n",
      "\n",
      "    accuracy                           0.77       111\n",
      "   macro avg       0.79      0.76      0.76       111\n",
      "weighted avg       0.79      0.77      0.76       111\n",
      "\n",
      "────────────────────────────────────────────────────────────────────────────────────────────────────────────────────────\n",
      "       Test metric             DataLoader 0\n",
      "────────────────────────────────────────────────────────────────────────────────────────────────────────────────────────\n",
      "        test/acc            0.7657657861709595\n",
      "        test/loss           0.5383302569389343\n",
      "────────────────────────────────────────────────────────────────────────────────────────────────────────────────────────\n"
     ]
    },
    {
     "name": "stderr",
     "output_type": "stream",
     "text": [
      "/tmp/ipykernel_2026410/4173107787.py:211: UserWarning: To copy construct from a tensor, it is recommended to use sourceTensor.clone().detach() or sourceTensor.clone().detach().requires_grad_(True), rather than torch.tensor(sourceTensor).\n",
      "  mean_test_loss = torch.tensor(test_loss / num_items) # mittlerer Loss\n"
     ]
    },
    {
     "data": {
      "text/plain": [
       "[{'test/loss': 0.5383302569389343, 'test/acc': 0.7657657861709595}]"
      ]
     },
     "execution_count": 14,
     "metadata": {},
     "output_type": "execute_result"
    },
    {
     "data": {
      "text/plain": [
       "<Figure size 1400x800 with 0 Axes>"
      ]
     },
     "metadata": {},
     "output_type": "display_data"
    },
    {
     "data": {
      "text/plain": [
       "<Figure size 1400x300 with 0 Axes>"
      ]
     },
     "metadata": {},
     "output_type": "display_data"
    },
    {
     "data": {
      "text/plain": [
       "<Figure size 1400x800 with 0 Axes>"
      ]
     },
     "metadata": {},
     "output_type": "display_data"
    },
    {
     "data": {
      "text/plain": [
       "<Figure size 1400x300 with 0 Axes>"
      ]
     },
     "metadata": {},
     "output_type": "display_data"
    },
    {
     "data": {
      "text/plain": [
       "<Figure size 1400x800 with 0 Axes>"
      ]
     },
     "metadata": {},
     "output_type": "display_data"
    },
    {
     "data": {
      "text/plain": [
       "<Figure size 1400x300 with 0 Axes>"
      ]
     },
     "metadata": {},
     "output_type": "display_data"
    },
    {
     "data": {
      "text/plain": [
       "<Figure size 1400x800 with 0 Axes>"
      ]
     },
     "metadata": {},
     "output_type": "display_data"
    },
    {
     "data": {
      "text/plain": [
       "<Figure size 1400x300 with 0 Axes>"
      ]
     },
     "metadata": {},
     "output_type": "display_data"
    },
    {
     "data": {
      "text/plain": [
       "<Figure size 1400x800 with 0 Axes>"
      ]
     },
     "metadata": {},
     "output_type": "display_data"
    },
    {
     "data": {
      "text/plain": [
       "<Figure size 1400x300 with 0 Axes>"
      ]
     },
     "metadata": {},
     "output_type": "display_data"
    },
    {
     "data": {
      "text/plain": [
       "<Figure size 1400x800 with 0 Axes>"
      ]
     },
     "metadata": {},
     "output_type": "display_data"
    },
    {
     "data": {
      "text/plain": [
       "<Figure size 1400x300 with 0 Axes>"
      ]
     },
     "metadata": {},
     "output_type": "display_data"
    },
    {
     "data": {
      "text/plain": [
       "<Figure size 1400x800 with 0 Axes>"
      ]
     },
     "metadata": {},
     "output_type": "display_data"
    },
    {
     "data": {
      "text/plain": [
       "<Figure size 1400x300 with 0 Axes>"
      ]
     },
     "metadata": {},
     "output_type": "display_data"
    },
    {
     "data": {
      "text/plain": [
       "<Figure size 1400x800 with 0 Axes>"
      ]
     },
     "metadata": {},
     "output_type": "display_data"
    },
    {
     "data": {
      "text/plain": [
       "<Figure size 1400x300 with 0 Axes>"
      ]
     },
     "metadata": {},
     "output_type": "display_data"
    },
    {
     "data": {
      "text/plain": [
       "<Figure size 1400x800 with 0 Axes>"
      ]
     },
     "metadata": {},
     "output_type": "display_data"
    },
    {
     "data": {
      "text/plain": [
       "<Figure size 1400x300 with 0 Axes>"
      ]
     },
     "metadata": {},
     "output_type": "display_data"
    },
    {
     "data": {
      "text/plain": [
       "<Figure size 1400x800 with 0 Axes>"
      ]
     },
     "metadata": {},
     "output_type": "display_data"
    },
    {
     "data": {
      "text/plain": [
       "<Figure size 1400x300 with 0 Axes>"
      ]
     },
     "metadata": {},
     "output_type": "display_data"
    },
    {
     "data": {
      "text/plain": [
       "<Figure size 1400x800 with 0 Axes>"
      ]
     },
     "metadata": {},
     "output_type": "display_data"
    },
    {
     "data": {
      "text/plain": [
       "<Figure size 1400x300 with 0 Axes>"
      ]
     },
     "metadata": {},
     "output_type": "display_data"
    },
    {
     "data": {
      "text/plain": [
       "<Figure size 1400x800 with 0 Axes>"
      ]
     },
     "metadata": {},
     "output_type": "display_data"
    },
    {
     "data": {
      "text/plain": [
       "<Figure size 1400x300 with 0 Axes>"
      ]
     },
     "metadata": {},
     "output_type": "display_data"
    },
    {
     "data": {
      "text/plain": [
       "<Figure size 1400x800 with 0 Axes>"
      ]
     },
     "metadata": {},
     "output_type": "display_data"
    },
    {
     "data": {
      "text/plain": [
       "<Figure size 1400x300 with 0 Axes>"
      ]
     },
     "metadata": {},
     "output_type": "display_data"
    },
    {
     "data": {
      "text/plain": [
       "<Figure size 1400x800 with 0 Axes>"
      ]
     },
     "metadata": {},
     "output_type": "display_data"
    },
    {
     "data": {
      "text/plain": [
       "<Figure size 1400x300 with 0 Axes>"
      ]
     },
     "metadata": {},
     "output_type": "display_data"
    },
    {
     "data": {
      "text/plain": [
       "<Figure size 1400x800 with 0 Axes>"
      ]
     },
     "metadata": {},
     "output_type": "display_data"
    },
    {
     "data": {
      "text/plain": [
       "<Figure size 1400x300 with 0 Axes>"
      ]
     },
     "metadata": {},
     "output_type": "display_data"
    },
    {
     "data": {
      "text/plain": [
       "<Figure size 1400x800 with 0 Axes>"
      ]
     },
     "metadata": {},
     "output_type": "display_data"
    },
    {
     "data": {
      "text/plain": [
       "<Figure size 1400x300 with 0 Axes>"
      ]
     },
     "metadata": {},
     "output_type": "display_data"
    },
    {
     "data": {
      "text/plain": [
       "<Figure size 1400x800 with 0 Axes>"
      ]
     },
     "metadata": {},
     "output_type": "display_data"
    },
    {
     "data": {
      "text/plain": [
       "<Figure size 1400x300 with 0 Axes>"
      ]
     },
     "metadata": {},
     "output_type": "display_data"
    },
    {
     "data": {
      "text/plain": [
       "<Figure size 1400x800 with 0 Axes>"
      ]
     },
     "metadata": {},
     "output_type": "display_data"
    },
    {
     "data": {
      "text/plain": [
       "<Figure size 1400x300 with 0 Axes>"
      ]
     },
     "metadata": {},
     "output_type": "display_data"
    },
    {
     "data": {
      "text/plain": [
       "<Figure size 1400x800 with 0 Axes>"
      ]
     },
     "metadata": {},
     "output_type": "display_data"
    },
    {
     "data": {
      "text/plain": [
       "<Figure size 1400x300 with 0 Axes>"
      ]
     },
     "metadata": {},
     "output_type": "display_data"
    },
    {
     "data": {
      "text/plain": [
       "<Figure size 1400x800 with 0 Axes>"
      ]
     },
     "metadata": {},
     "output_type": "display_data"
    },
    {
     "data": {
      "text/plain": [
       "<Figure size 1400x300 with 0 Axes>"
      ]
     },
     "metadata": {},
     "output_type": "display_data"
    },
    {
     "data": {
      "text/plain": [
       "<Figure size 1400x800 with 0 Axes>"
      ]
     },
     "metadata": {},
     "output_type": "display_data"
    },
    {
     "data": {
      "text/plain": [
       "<Figure size 1400x300 with 0 Axes>"
      ]
     },
     "metadata": {},
     "output_type": "display_data"
    },
    {
     "data": {
      "text/plain": [
       "<Figure size 1400x800 with 0 Axes>"
      ]
     },
     "metadata": {},
     "output_type": "display_data"
    },
    {
     "data": {
      "text/plain": [
       "<Figure size 1400x300 with 0 Axes>"
      ]
     },
     "metadata": {},
     "output_type": "display_data"
    },
    {
     "data": {
      "text/plain": [
       "<Figure size 1400x800 with 0 Axes>"
      ]
     },
     "metadata": {},
     "output_type": "display_data"
    },
    {
     "data": {
      "text/plain": [
       "<Figure size 1400x300 with 0 Axes>"
      ]
     },
     "metadata": {},
     "output_type": "display_data"
    },
    {
     "data": {
      "text/plain": [
       "<Figure size 1400x800 with 0 Axes>"
      ]
     },
     "metadata": {},
     "output_type": "display_data"
    },
    {
     "data": {
      "text/plain": [
       "<Figure size 1400x300 with 0 Axes>"
      ]
     },
     "metadata": {},
     "output_type": "display_data"
    },
    {
     "data": {
      "text/plain": [
       "<Figure size 1400x800 with 0 Axes>"
      ]
     },
     "metadata": {},
     "output_type": "display_data"
    },
    {
     "data": {
      "text/plain": [
       "<Figure size 1400x300 with 0 Axes>"
      ]
     },
     "metadata": {},
     "output_type": "display_data"
    },
    {
     "data": {
      "text/plain": [
       "<Figure size 1400x800 with 0 Axes>"
      ]
     },
     "metadata": {},
     "output_type": "display_data"
    },
    {
     "data": {
      "text/plain": [
       "<Figure size 1400x300 with 0 Axes>"
      ]
     },
     "metadata": {},
     "output_type": "display_data"
    },
    {
     "data": {
      "text/plain": [
       "<Figure size 1400x800 with 0 Axes>"
      ]
     },
     "metadata": {},
     "output_type": "display_data"
    },
    {
     "data": {
      "text/plain": [
       "<Figure size 1400x300 with 0 Axes>"
      ]
     },
     "metadata": {},
     "output_type": "display_data"
    },
    {
     "data": {
      "text/plain": [
       "<Figure size 1400x800 with 0 Axes>"
      ]
     },
     "metadata": {},
     "output_type": "display_data"
    },
    {
     "data": {
      "text/plain": [
       "<Figure size 1400x300 with 0 Axes>"
      ]
     },
     "metadata": {},
     "output_type": "display_data"
    },
    {
     "data": {
      "text/plain": [
       "<Figure size 1400x800 with 0 Axes>"
      ]
     },
     "metadata": {},
     "output_type": "display_data"
    },
    {
     "data": {
      "text/plain": [
       "<Figure size 1400x300 with 0 Axes>"
      ]
     },
     "metadata": {},
     "output_type": "display_data"
    },
    {
     "data": {
      "text/plain": [
       "<Figure size 1400x800 with 0 Axes>"
      ]
     },
     "metadata": {},
     "output_type": "display_data"
    },
    {
     "data": {
      "text/plain": [
       "<Figure size 1400x300 with 0 Axes>"
      ]
     },
     "metadata": {},
     "output_type": "display_data"
    },
    {
     "data": {
      "text/plain": [
       "<Figure size 1400x800 with 0 Axes>"
      ]
     },
     "metadata": {},
     "output_type": "display_data"
    },
    {
     "data": {
      "text/plain": [
       "<Figure size 1400x300 with 0 Axes>"
      ]
     },
     "metadata": {},
     "output_type": "display_data"
    },
    {
     "data": {
      "text/plain": [
       "<Figure size 1400x800 with 0 Axes>"
      ]
     },
     "metadata": {},
     "output_type": "display_data"
    },
    {
     "data": {
      "text/plain": [
       "<Figure size 1400x300 with 0 Axes>"
      ]
     },
     "metadata": {},
     "output_type": "display_data"
    },
    {
     "data": {
      "text/plain": [
       "<Figure size 1400x800 with 0 Axes>"
      ]
     },
     "metadata": {},
     "output_type": "display_data"
    },
    {
     "data": {
      "text/plain": [
       "<Figure size 1400x300 with 0 Axes>"
      ]
     },
     "metadata": {},
     "output_type": "display_data"
    },
    {
     "data": {
      "text/plain": [
       "<Figure size 1400x800 with 0 Axes>"
      ]
     },
     "metadata": {},
     "output_type": "display_data"
    },
    {
     "data": {
      "text/plain": [
       "<Figure size 1400x300 with 0 Axes>"
      ]
     },
     "metadata": {},
     "output_type": "display_data"
    },
    {
     "data": {
      "text/plain": [
       "<Figure size 1400x800 with 0 Axes>"
      ]
     },
     "metadata": {},
     "output_type": "display_data"
    },
    {
     "data": {
      "text/plain": [
       "<Figure size 1400x300 with 0 Axes>"
      ]
     },
     "metadata": {},
     "output_type": "display_data"
    },
    {
     "data": {
      "text/plain": [
       "<Figure size 1400x800 with 0 Axes>"
      ]
     },
     "metadata": {},
     "output_type": "display_data"
    },
    {
     "data": {
      "text/plain": [
       "<Figure size 1400x300 with 0 Axes>"
      ]
     },
     "metadata": {},
     "output_type": "display_data"
    },
    {
     "data": {
      "text/plain": [
       "<Figure size 1400x800 with 0 Axes>"
      ]
     },
     "metadata": {},
     "output_type": "display_data"
    },
    {
     "data": {
      "text/plain": [
       "<Figure size 1400x300 with 0 Axes>"
      ]
     },
     "metadata": {},
     "output_type": "display_data"
    },
    {
     "data": {
      "text/plain": [
       "<Figure size 1400x800 with 0 Axes>"
      ]
     },
     "metadata": {},
     "output_type": "display_data"
    },
    {
     "data": {
      "text/plain": [
       "<Figure size 1400x300 with 0 Axes>"
      ]
     },
     "metadata": {},
     "output_type": "display_data"
    },
    {
     "data": {
      "text/plain": [
       "<Figure size 1400x800 with 0 Axes>"
      ]
     },
     "metadata": {},
     "output_type": "display_data"
    },
    {
     "data": {
      "text/plain": [
       "<Figure size 1400x300 with 0 Axes>"
      ]
     },
     "metadata": {},
     "output_type": "display_data"
    },
    {
     "data": {
      "text/plain": [
       "<Figure size 1400x800 with 0 Axes>"
      ]
     },
     "metadata": {},
     "output_type": "display_data"
    },
    {
     "data": {
      "text/plain": [
       "<Figure size 1400x300 with 0 Axes>"
      ]
     },
     "metadata": {},
     "output_type": "display_data"
    },
    {
     "data": {
      "text/plain": [
       "<Figure size 1400x800 with 0 Axes>"
      ]
     },
     "metadata": {},
     "output_type": "display_data"
    },
    {
     "data": {
      "text/plain": [
       "<Figure size 1400x300 with 0 Axes>"
      ]
     },
     "metadata": {},
     "output_type": "display_data"
    },
    {
     "data": {
      "text/plain": [
       "<Figure size 1400x800 with 0 Axes>"
      ]
     },
     "metadata": {},
     "output_type": "display_data"
    },
    {
     "data": {
      "text/plain": [
       "<Figure size 1400x300 with 0 Axes>"
      ]
     },
     "metadata": {},
     "output_type": "display_data"
    },
    {
     "data": {
      "text/plain": [
       "<Figure size 1400x800 with 0 Axes>"
      ]
     },
     "metadata": {},
     "output_type": "display_data"
    },
    {
     "data": {
      "text/plain": [
       "<Figure size 1400x300 with 0 Axes>"
      ]
     },
     "metadata": {},
     "output_type": "display_data"
    },
    {
     "data": {
      "text/plain": [
       "<Figure size 1400x800 with 0 Axes>"
      ]
     },
     "metadata": {},
     "output_type": "display_data"
    },
    {
     "data": {
      "text/plain": [
       "<Figure size 1400x300 with 0 Axes>"
      ]
     },
     "metadata": {},
     "output_type": "display_data"
    },
    {
     "data": {
      "text/plain": [
       "<Figure size 1400x800 with 0 Axes>"
      ]
     },
     "metadata": {},
     "output_type": "display_data"
    },
    {
     "data": {
      "text/plain": [
       "<Figure size 1400x300 with 0 Axes>"
      ]
     },
     "metadata": {},
     "output_type": "display_data"
    },
    {
     "data": {
      "text/plain": [
       "<Figure size 1400x800 with 0 Axes>"
      ]
     },
     "metadata": {},
     "output_type": "display_data"
    },
    {
     "data": {
      "text/plain": [
       "<Figure size 1400x300 with 0 Axes>"
      ]
     },
     "metadata": {},
     "output_type": "display_data"
    },
    {
     "data": {
      "text/plain": [
       "<Figure size 1400x800 with 0 Axes>"
      ]
     },
     "metadata": {},
     "output_type": "display_data"
    },
    {
     "data": {
      "text/plain": [
       "<Figure size 1400x300 with 0 Axes>"
      ]
     },
     "metadata": {},
     "output_type": "display_data"
    },
    {
     "data": {
      "text/plain": [
       "<Figure size 1400x800 with 0 Axes>"
      ]
     },
     "metadata": {},
     "output_type": "display_data"
    },
    {
     "data": {
      "text/plain": [
       "<Figure size 1400x300 with 0 Axes>"
      ]
     },
     "metadata": {},
     "output_type": "display_data"
    },
    {
     "data": {
      "text/plain": [
       "<Figure size 1400x800 with 0 Axes>"
      ]
     },
     "metadata": {},
     "output_type": "display_data"
    },
    {
     "data": {
      "text/plain": [
       "<Figure size 1400x300 with 0 Axes>"
      ]
     },
     "metadata": {},
     "output_type": "display_data"
    },
    {
     "data": {
      "text/plain": [
       "<Figure size 1400x800 with 0 Axes>"
      ]
     },
     "metadata": {},
     "output_type": "display_data"
    },
    {
     "data": {
      "text/plain": [
       "<Figure size 1400x300 with 0 Axes>"
      ]
     },
     "metadata": {},
     "output_type": "display_data"
    },
    {
     "data": {
      "text/plain": [
       "<Figure size 1400x800 with 0 Axes>"
      ]
     },
     "metadata": {},
     "output_type": "display_data"
    },
    {
     "data": {
      "text/plain": [
       "<Figure size 1400x300 with 0 Axes>"
      ]
     },
     "metadata": {},
     "output_type": "display_data"
    },
    {
     "data": {
      "text/plain": [
       "<Figure size 1400x800 with 0 Axes>"
      ]
     },
     "metadata": {},
     "output_type": "display_data"
    },
    {
     "data": {
      "text/plain": [
       "<Figure size 1400x300 with 0 Axes>"
      ]
     },
     "metadata": {},
     "output_type": "display_data"
    },
    {
     "data": {
      "text/plain": [
       "<Figure size 1400x800 with 0 Axes>"
      ]
     },
     "metadata": {},
     "output_type": "display_data"
    },
    {
     "data": {
      "text/plain": [
       "<Figure size 1400x300 with 0 Axes>"
      ]
     },
     "metadata": {},
     "output_type": "display_data"
    },
    {
     "data": {
      "text/plain": [
       "<Figure size 1400x800 with 0 Axes>"
      ]
     },
     "metadata": {},
     "output_type": "display_data"
    },
    {
     "data": {
      "text/plain": [
       "<Figure size 1400x300 with 0 Axes>"
      ]
     },
     "metadata": {},
     "output_type": "display_data"
    },
    {
     "data": {
      "text/plain": [
       "<Figure size 1400x800 with 0 Axes>"
      ]
     },
     "metadata": {},
     "output_type": "display_data"
    },
    {
     "data": {
      "text/plain": [
       "<Figure size 1400x300 with 0 Axes>"
      ]
     },
     "metadata": {},
     "output_type": "display_data"
    },
    {
     "data": {
      "image/png": "[encoded data removed]",
      "text/plain": [
       "<Figure size 640x480 with 2 Axes>"
      ]
     },
     "metadata": {},
     "output_type": "display_data"
    }
   ],
   "source": [
    "# Train, Test, Save\n",
    "\n",
    "# initialise the LightningModule\n",
    "net = Net()\n",
    "\n",
    "# Pfad zum Speichern der Checkpoints und Wandb Infos erstellen: \n",
    "checkpoint_dir = os.path.join(root_dir, Model, Versuch) \n",
    "try:\n",
    "    os.makedirs(checkpoint_dir) # Erstellt Pfad \n",
    "except OSError:\n",
    "    print (\"Path %s exsists\" % checkpoint_dir)\n",
    "else:\n",
    "    print (\"Successfully created path %s\" % checkpoint_dir)\n",
    "\n",
    "    \n",
    "# weights and biases\n",
    "wandb_logger = WandbLogger(project=Model, name=Versuch, tags = wandb_tag, save_dir=checkpoint_dir)\n",
    "\n",
    "\n",
    "## Callbacks  \n",
    "\n",
    "# Speichern der Checkpoints \n",
    "checkpoint_callback = callbacks.ModelCheckpoint( #  macht jedes mal ein neuen Ordner auf (logs-\"test1-{epoch}-{val_loss:.2f}\") speichert Stand des letzten Trainingsschritts\n",
    "    dirpath = checkpoint_dir, # Speicher Pfad \n",
    "    monitor = \"val/loss\", # das was ich in filename schreiben will muss ich hier monitoren \n",
    "    filename = \"{epoch}\",\n",
    "    save_last = True, # Speichert den Stand der letzten Epoche des Trainings (Name: last.ckpt)\n",
    "    save_top_k = 2, # Speichert den Stand der k=2 besten Epochen [bester val loss] des Trainings (Name: epoch=*-val_loss=*.ckpt)\n",
    ")\n",
    "\n",
    "# Einstellen bis zu welcher Epoche man Freezen will \n",
    "# ACHTUNG: Das was man Freezen will muss \"backbone\" heißen \n",
    "finetuning = callbacks.BackboneFinetuning(\n",
    "    unfreeze_backbone_at_epoch=unfreeze, \n",
    "    )\n",
    "\n",
    "# Loggt Lr in Wandb\n",
    "lr_monitor = callbacks.LearningRateMonitor(logging_interval=None, log_momentum=True)\n",
    "\n",
    "# All Callbacks zusammen fügen  (von hier und von Hydra [wbcall von wandb_callbacks.py, von hydra template])\n",
    "if first_frozen == True:\n",
    "    callback_summary = [checkpoint_callback, finetuning, lr_monitor, wbcall.LogConfusionMatrix(), wbcall.LogF1PrecRecHeatmap()]\n",
    "else:\n",
    "    callback_summary = [checkpoint_callback, lr_monitor, wbcall.LogConfusionMatrix(), wbcall.LogF1PrecRecHeatmap()]\n",
    "    \n",
    "\n",
    "# Netz printen\n",
    "#print(summary(Net(), torch.zeros((1, 3, 224, 224)), show_input=True))\n",
    "#print(summary(Net(), torch.zeros((1, 3, 224, 224)), show_input=False))\n",
    "#print(summary(Net(), torch.zeros((1, 3, 224, 224)), show_input=False, show_hierarchical=True))\n",
    "\n",
    "\n",
    "# initialise Lightning's trainer.\n",
    "trainer = pytorch_lightning.Trainer(\n",
    "    gpus=1,\n",
    "    max_epochs=Epochen, # Epochen\n",
    "    logger=wandb_logger, # weight & biasis \n",
    "    callbacks=callback_summary,\n",
    "    num_sanity_val_steps=1, # Macht einen Run mit dem Val Dataset zum Checken ob alles passt \n",
    "    accumulate_grad_batches = num_batches_to_accumulate, # GPU zu klein für BS -> Fasst mehrere Batches zusammen und macht erst dann Update \n",
    "    auto_scale_batch_size = automatic_scale_batch_size, # run batch size scaling, result overrides hparams.batch_size\n",
    "    auto_lr_find = find_lr_automatic, #Runs a learning rate finder algorithm\n",
    ")\n",
    "trainer.logger.log_hyperparams(info) # Damit meine Infos in wandb geloggt werden \n",
    "\n",
    "# train + val\n",
    "trainer.fit(net)\n",
    "\n",
    "# test\n",
    "trainer.test(net)"
   ]
  },
  {
   "cell_type": "code",
   "execution_count": 15,
   "id": "706d5c95-21b5-4d8c-a112-16a31bfd4880",
   "metadata": {
    "pycharm": {
     "name": "#%%\n"
    }
   },
   "outputs": [
    {
     "ename": "FileNotFoundError",
     "evalue": "[Errno 2] No such file or directory: '/home/wolfda/Clinic_Data/Challenge/CT_PreTrain/Challenge_COVID-19-20_v2/Data/2D/Results/save/model_swav_CovidHalfKlein_downstream/versuch_IM_Supervised_AllSeg_bs16_lr-4_Aug/epoch=19-val_loss=0.40.ckpt'",
     "output_type": "error",
     "traceback": [
      "\u001b[0;31m---------------------------------------------------------------------------\u001b[0m",
      "\u001b[0;31mFileNotFoundError\u001b[0m                         Traceback (most recent call last)",
      "Input \u001b[0;32mIn [15]\u001b[0m, in \u001b[0;36m<cell line: 5>\u001b[0;34m()\u001b[0m\n\u001b[1;32m      1\u001b[0m \u001b[38;5;66;03m### Test mit trainiertem Modell (A) Testdurchlauf mit den kompletten Testdaten\u001b[39;00m\n\u001b[1;32m      2\u001b[0m \u001b[38;5;66;03m# Legt eine Datei \"lightning_logs\" an, die einfach löschen \u001b[39;00m\n\u001b[1;32m      3\u001b[0m \n\u001b[1;32m      4\u001b[0m \u001b[38;5;66;03m# Trainiertes Model wieder Laden (mit Pfad wie oben festgelegt **2)\u001b[39;00m\n\u001b[0;32m----> 5\u001b[0m net \u001b[38;5;241m=\u001b[39m \u001b[43mNet\u001b[49m\u001b[38;5;241;43m.\u001b[39;49m\u001b[43mload_from_checkpoint\u001b[49m\u001b[43m(\u001b[49m\u001b[43m \u001b[49m\u001b[38;5;66;43;03m# \"Net\" ist der Name unseres Netzes **1\u001b[39;49;00m\n\u001b[1;32m      6\u001b[0m \u001b[43m    \u001b[49m\u001b[38;5;124;43m\"\u001b[39;49m\u001b[38;5;124;43m/home/wolfda/Clinic_Data/Challenge/CT_PreTrain/Challenge_COVID-19-20_v2/Data/2D/Results/save/model_swav_CovidHalfKlein_downstream/versuch_IM_Supervised_AllSeg_bs16_lr-4_Aug/epoch=19-val_loss=0.40.ckpt\u001b[39;49m\u001b[38;5;124;43m\"\u001b[39;49m\u001b[43m \u001b[49m\u001b[38;5;66;43;03m# [model: A,B,C,..], [versuch: 0,1,2,..]\u001b[39;49;00m\n\u001b[1;32m      7\u001b[0m \u001b[43m)\u001b[49m \u001b[38;5;66;03m# letzte Epoche: last.ckpt | Besten 2 Epochen: epoch=5-val_loss=1.34.ckpt\u001b[39;00m\n\u001b[1;32m      8\u001b[0m \u001b[38;5;66;03m# ACHTUNG: Oben die Richtigen Daten nehmen + Richtiges Netz\u001b[39;00m\n\u001b[1;32m      9\u001b[0m \n\u001b[1;32m     10\u001b[0m \u001b[38;5;66;03m# Info über das Netz\u001b[39;00m\n\u001b[1;32m     11\u001b[0m \u001b[38;5;28mprint\u001b[39m(summary(net))\n",
      "File \u001b[0;32m~/anaconda3/envs/Monai3/lib/python3.9/site-packages/pytorch_lightning/core/saving.py:137\u001b[0m, in \u001b[0;36mModelIO.load_from_checkpoint\u001b[0;34m(cls, checkpoint_path, map_location, hparams_file, strict, **kwargs)\u001b[0m\n\u001b[1;32m     57\u001b[0m \u001b[38;5;129m@classmethod\u001b[39m\n\u001b[1;32m     58\u001b[0m \u001b[38;5;28;01mdef\u001b[39;00m \u001b[38;5;21mload_from_checkpoint\u001b[39m(\n\u001b[1;32m     59\u001b[0m     \u001b[38;5;28mcls\u001b[39m,\n\u001b[0;32m   (...)\u001b[0m\n\u001b[1;32m     64\u001b[0m     \u001b[38;5;241m*\u001b[39m\u001b[38;5;241m*\u001b[39mkwargs,\n\u001b[1;32m     65\u001b[0m ):\n\u001b[1;32m     66\u001b[0m     \u001b[38;5;124mr\u001b[39m\u001b[38;5;124;03m\"\"\"\u001b[39;00m\n\u001b[1;32m     67\u001b[0m \u001b[38;5;124;03m    Primary way of loading a model from a checkpoint. When Lightning saves a checkpoint\u001b[39;00m\n\u001b[1;32m     68\u001b[0m \u001b[38;5;124;03m    it stores the arguments passed to ``__init__``  in the checkpoint under ``\"hyper_parameters\"``.\u001b[39;00m\n\u001b[0;32m   (...)\u001b[0m\n\u001b[1;32m    135\u001b[0m \u001b[38;5;124;03m        y_hat = pretrained_model(x)\u001b[39;00m\n\u001b[1;32m    136\u001b[0m \u001b[38;5;124;03m    \"\"\"\u001b[39;00m\n\u001b[0;32m--> 137\u001b[0m     \u001b[38;5;28;01mreturn\u001b[39;00m \u001b[43m_load_from_checkpoint\u001b[49m\u001b[43m(\u001b[49m\n\u001b[1;32m    138\u001b[0m \u001b[43m        \u001b[49m\u001b[38;5;28;43mcls\u001b[39;49m\u001b[43m,\u001b[49m\n\u001b[1;32m    139\u001b[0m \u001b[43m        \u001b[49m\u001b[43mcheckpoint_path\u001b[49m\u001b[43m,\u001b[49m\n\u001b[1;32m    140\u001b[0m \u001b[43m        \u001b[49m\u001b[43mmap_location\u001b[49m\u001b[43m,\u001b[49m\n\u001b[1;32m    141\u001b[0m \u001b[43m        \u001b[49m\u001b[43mhparams_file\u001b[49m\u001b[43m,\u001b[49m\n\u001b[1;32m    142\u001b[0m \u001b[43m        \u001b[49m\u001b[43mstrict\u001b[49m\u001b[43m,\u001b[49m\n\u001b[1;32m    143\u001b[0m \u001b[43m        \u001b[49m\u001b[38;5;241;43m*\u001b[39;49m\u001b[38;5;241;43m*\u001b[39;49m\u001b[43mkwargs\u001b[49m\u001b[43m,\u001b[49m\n\u001b[1;32m    144\u001b[0m \u001b[43m    \u001b[49m\u001b[43m)\u001b[49m\n",
      "File \u001b[0;32m~/anaconda3/envs/Monai3/lib/python3.9/site-packages/pytorch_lightning/core/saving.py:184\u001b[0m, in \u001b[0;36m_load_from_checkpoint\u001b[0;34m(cls, checkpoint_path, map_location, hparams_file, strict, **kwargs)\u001b[0m\n\u001b[1;32m    182\u001b[0m     map_location \u001b[38;5;241m=\u001b[39m \u001b[38;5;28;01mlambda\u001b[39;00m storage, loc: storage\n\u001b[1;32m    183\u001b[0m \u001b[38;5;28;01mwith\u001b[39;00m pl_legacy_patch():\n\u001b[0;32m--> 184\u001b[0m     checkpoint \u001b[38;5;241m=\u001b[39m \u001b[43mpl_load\u001b[49m\u001b[43m(\u001b[49m\u001b[43mcheckpoint_path\u001b[49m\u001b[43m,\u001b[49m\u001b[43m \u001b[49m\u001b[43mmap_location\u001b[49m\u001b[38;5;241;43m=\u001b[39;49m\u001b[43mmap_location\u001b[49m\u001b[43m)\u001b[49m\n\u001b[1;32m    186\u001b[0m \u001b[38;5;28;01mif\u001b[39;00m hparams_file \u001b[38;5;129;01mis\u001b[39;00m \u001b[38;5;129;01mnot\u001b[39;00m \u001b[38;5;28;01mNone\u001b[39;00m:\n\u001b[1;32m    187\u001b[0m     extension \u001b[38;5;241m=\u001b[39m hparams_file\u001b[38;5;241m.\u001b[39msplit(\u001b[38;5;124m\"\u001b[39m\u001b[38;5;124m.\u001b[39m\u001b[38;5;124m\"\u001b[39m)[\u001b[38;5;241m-\u001b[39m\u001b[38;5;241m1\u001b[39m]\n",
      "File \u001b[0;32m~/anaconda3/envs/Monai3/lib/python3.9/site-packages/pytorch_lightning/utilities/cloud_io.py:46\u001b[0m, in \u001b[0;36mload\u001b[0;34m(path_or_url, map_location)\u001b[0m\n\u001b[1;32m     44\u001b[0m     \u001b[38;5;28;01mreturn\u001b[39;00m torch\u001b[38;5;241m.\u001b[39mhub\u001b[38;5;241m.\u001b[39mload_state_dict_from_url(\u001b[38;5;28mstr\u001b[39m(path_or_url), map_location\u001b[38;5;241m=\u001b[39mmap_location)\n\u001b[1;32m     45\u001b[0m fs \u001b[38;5;241m=\u001b[39m get_filesystem(path_or_url)\n\u001b[0;32m---> 46\u001b[0m \u001b[38;5;28;01mwith\u001b[39;00m \u001b[43mfs\u001b[49m\u001b[38;5;241;43m.\u001b[39;49m\u001b[43mopen\u001b[49m\u001b[43m(\u001b[49m\u001b[43mpath_or_url\u001b[49m\u001b[43m,\u001b[49m\u001b[43m \u001b[49m\u001b[38;5;124;43m\"\u001b[39;49m\u001b[38;5;124;43mrb\u001b[39;49m\u001b[38;5;124;43m\"\u001b[39;49m\u001b[43m)\u001b[49m \u001b[38;5;28;01mas\u001b[39;00m f:\n\u001b[1;32m     47\u001b[0m     \u001b[38;5;28;01mreturn\u001b[39;00m torch\u001b[38;5;241m.\u001b[39mload(f, map_location\u001b[38;5;241m=\u001b[39mmap_location)\n",
      "File \u001b[0;32m~/anaconda3/envs/Monai3/lib/python3.9/site-packages/fsspec/spec.py:1034\u001b[0m, in \u001b[0;36mAbstractFileSystem.open\u001b[0;34m(self, path, mode, block_size, cache_options, compression, **kwargs)\u001b[0m\n\u001b[1;32m   1032\u001b[0m \u001b[38;5;28;01melse\u001b[39;00m:\n\u001b[1;32m   1033\u001b[0m     ac \u001b[38;5;241m=\u001b[39m kwargs\u001b[38;5;241m.\u001b[39mpop(\u001b[38;5;124m\"\u001b[39m\u001b[38;5;124mautocommit\u001b[39m\u001b[38;5;124m\"\u001b[39m, \u001b[38;5;129;01mnot\u001b[39;00m \u001b[38;5;28mself\u001b[39m\u001b[38;5;241m.\u001b[39m_intrans)\n\u001b[0;32m-> 1034\u001b[0m     f \u001b[38;5;241m=\u001b[39m \u001b[38;5;28;43mself\u001b[39;49m\u001b[38;5;241;43m.\u001b[39;49m\u001b[43m_open\u001b[49m\u001b[43m(\u001b[49m\n\u001b[1;32m   1035\u001b[0m \u001b[43m        \u001b[49m\u001b[43mpath\u001b[49m\u001b[43m,\u001b[49m\n\u001b[1;32m   1036\u001b[0m \u001b[43m        \u001b[49m\u001b[43mmode\u001b[49m\u001b[38;5;241;43m=\u001b[39;49m\u001b[43mmode\u001b[49m\u001b[43m,\u001b[49m\n\u001b[1;32m   1037\u001b[0m \u001b[43m        \u001b[49m\u001b[43mblock_size\u001b[49m\u001b[38;5;241;43m=\u001b[39;49m\u001b[43mblock_size\u001b[49m\u001b[43m,\u001b[49m\n\u001b[1;32m   1038\u001b[0m \u001b[43m        \u001b[49m\u001b[43mautocommit\u001b[49m\u001b[38;5;241;43m=\u001b[39;49m\u001b[43mac\u001b[49m\u001b[43m,\u001b[49m\n\u001b[1;32m   1039\u001b[0m \u001b[43m        \u001b[49m\u001b[43mcache_options\u001b[49m\u001b[38;5;241;43m=\u001b[39;49m\u001b[43mcache_options\u001b[49m\u001b[43m,\u001b[49m\n\u001b[1;32m   1040\u001b[0m \u001b[43m        \u001b[49m\u001b[38;5;241;43m*\u001b[39;49m\u001b[38;5;241;43m*\u001b[39;49m\u001b[43mkwargs\u001b[49m\u001b[43m,\u001b[49m\n\u001b[1;32m   1041\u001b[0m \u001b[43m    \u001b[49m\u001b[43m)\u001b[49m\n\u001b[1;32m   1042\u001b[0m     \u001b[38;5;28;01mif\u001b[39;00m compression \u001b[38;5;129;01mis\u001b[39;00m \u001b[38;5;129;01mnot\u001b[39;00m \u001b[38;5;28;01mNone\u001b[39;00m:\n\u001b[1;32m   1043\u001b[0m         \u001b[38;5;28;01mfrom\u001b[39;00m \u001b[38;5;21;01mfsspec\u001b[39;00m\u001b[38;5;21;01m.\u001b[39;00m\u001b[38;5;21;01mcompression\u001b[39;00m \u001b[38;5;28;01mimport\u001b[39;00m compr\n",
      "File \u001b[0;32m~/anaconda3/envs/Monai3/lib/python3.9/site-packages/fsspec/implementations/local.py:162\u001b[0m, in \u001b[0;36mLocalFileSystem._open\u001b[0;34m(self, path, mode, block_size, **kwargs)\u001b[0m\n\u001b[1;32m    160\u001b[0m \u001b[38;5;28;01mif\u001b[39;00m \u001b[38;5;28mself\u001b[39m\u001b[38;5;241m.\u001b[39mauto_mkdir \u001b[38;5;129;01mand\u001b[39;00m \u001b[38;5;124m\"\u001b[39m\u001b[38;5;124mw\u001b[39m\u001b[38;5;124m\"\u001b[39m \u001b[38;5;129;01min\u001b[39;00m mode:\n\u001b[1;32m    161\u001b[0m     \u001b[38;5;28mself\u001b[39m\u001b[38;5;241m.\u001b[39mmakedirs(\u001b[38;5;28mself\u001b[39m\u001b[38;5;241m.\u001b[39m_parent(path), exist_ok\u001b[38;5;241m=\u001b[39m\u001b[38;5;28;01mTrue\u001b[39;00m)\n\u001b[0;32m--> 162\u001b[0m \u001b[38;5;28;01mreturn\u001b[39;00m \u001b[43mLocalFileOpener\u001b[49m\u001b[43m(\u001b[49m\u001b[43mpath\u001b[49m\u001b[43m,\u001b[49m\u001b[43m \u001b[49m\u001b[43mmode\u001b[49m\u001b[43m,\u001b[49m\u001b[43m \u001b[49m\u001b[43mfs\u001b[49m\u001b[38;5;241;43m=\u001b[39;49m\u001b[38;5;28;43mself\u001b[39;49m\u001b[43m,\u001b[49m\u001b[43m \u001b[49m\u001b[38;5;241;43m*\u001b[39;49m\u001b[38;5;241;43m*\u001b[39;49m\u001b[43mkwargs\u001b[49m\u001b[43m)\u001b[49m\n",
      "File \u001b[0;32m~/anaconda3/envs/Monai3/lib/python3.9/site-packages/fsspec/implementations/local.py:260\u001b[0m, in \u001b[0;36mLocalFileOpener.__init__\u001b[0;34m(self, path, mode, autocommit, fs, compression, **kwargs)\u001b[0m\n\u001b[1;32m    258\u001b[0m \u001b[38;5;28mself\u001b[39m\u001b[38;5;241m.\u001b[39mcompression \u001b[38;5;241m=\u001b[39m get_compression(path, compression)\n\u001b[1;32m    259\u001b[0m \u001b[38;5;28mself\u001b[39m\u001b[38;5;241m.\u001b[39mblocksize \u001b[38;5;241m=\u001b[39m io\u001b[38;5;241m.\u001b[39mDEFAULT_BUFFER_SIZE\n\u001b[0;32m--> 260\u001b[0m \u001b[38;5;28;43mself\u001b[39;49m\u001b[38;5;241;43m.\u001b[39;49m\u001b[43m_open\u001b[49m\u001b[43m(\u001b[49m\u001b[43m)\u001b[49m\n",
      "File \u001b[0;32m~/anaconda3/envs/Monai3/lib/python3.9/site-packages/fsspec/implementations/local.py:265\u001b[0m, in \u001b[0;36mLocalFileOpener._open\u001b[0;34m(self)\u001b[0m\n\u001b[1;32m    263\u001b[0m \u001b[38;5;28;01mif\u001b[39;00m \u001b[38;5;28mself\u001b[39m\u001b[38;5;241m.\u001b[39mf \u001b[38;5;129;01mis\u001b[39;00m \u001b[38;5;28;01mNone\u001b[39;00m \u001b[38;5;129;01mor\u001b[39;00m \u001b[38;5;28mself\u001b[39m\u001b[38;5;241m.\u001b[39mf\u001b[38;5;241m.\u001b[39mclosed:\n\u001b[1;32m    264\u001b[0m     \u001b[38;5;28;01mif\u001b[39;00m \u001b[38;5;28mself\u001b[39m\u001b[38;5;241m.\u001b[39mautocommit \u001b[38;5;129;01mor\u001b[39;00m \u001b[38;5;124m\"\u001b[39m\u001b[38;5;124mw\u001b[39m\u001b[38;5;124m\"\u001b[39m \u001b[38;5;129;01mnot\u001b[39;00m \u001b[38;5;129;01min\u001b[39;00m \u001b[38;5;28mself\u001b[39m\u001b[38;5;241m.\u001b[39mmode:\n\u001b[0;32m--> 265\u001b[0m         \u001b[38;5;28mself\u001b[39m\u001b[38;5;241m.\u001b[39mf \u001b[38;5;241m=\u001b[39m \u001b[38;5;28;43mopen\u001b[39;49m\u001b[43m(\u001b[49m\u001b[38;5;28;43mself\u001b[39;49m\u001b[38;5;241;43m.\u001b[39;49m\u001b[43mpath\u001b[49m\u001b[43m,\u001b[49m\u001b[43m \u001b[49m\u001b[43mmode\u001b[49m\u001b[38;5;241;43m=\u001b[39;49m\u001b[38;5;28;43mself\u001b[39;49m\u001b[38;5;241;43m.\u001b[39;49m\u001b[43mmode\u001b[49m\u001b[43m)\u001b[49m\n\u001b[1;32m    266\u001b[0m         \u001b[38;5;28;01mif\u001b[39;00m \u001b[38;5;28mself\u001b[39m\u001b[38;5;241m.\u001b[39mcompression:\n\u001b[1;32m    267\u001b[0m             compress \u001b[38;5;241m=\u001b[39m compr[\u001b[38;5;28mself\u001b[39m\u001b[38;5;241m.\u001b[39mcompression]\n",
      "\u001b[0;31mFileNotFoundError\u001b[0m: [Errno 2] No such file or directory: '/home/wolfda/Clinic_Data/Challenge/CT_PreTrain/Challenge_COVID-19-20_v2/Data/2D/Results/save/model_swav_CovidHalfKlein_downstream/versuch_IM_Supervised_AllSeg_bs16_lr-4_Aug/epoch=19-val_loss=0.40.ckpt'"
     ]
    }
   ],
   "source": [
    "### Test mit trainiertem Modell (A) Testdurchlauf mit den kompletten Testdaten\n",
    "# Legt eine Datei \"lightning_logs\" an, die einfach löschen \n",
    "\n",
    "# Trainiertes Model wieder Laden (mit Pfad wie oben festgelegt **2)\n",
    "net = Net.load_from_checkpoint( # \"Net\" ist der Name unseres Netzes **1\n",
    "    \"/home/wolfda/Clinic_Data/Challenge/CT_PreTrain/Challenge_COVID-19-20_v2/Data/2D/Results/save/model_swav_CovidHalfKlein_downstream/versuch_IM_Supervised_AllSeg_bs16_lr-4_Aug/epoch=19-val_loss=0.40.ckpt\" # [model: A,B,C,..], [versuch: 0,1,2,..]\n",
    ") # letzte Epoche: last.ckpt | Besten 2 Epochen: epoch=5-val_loss=1.34.ckpt\n",
    "# ACHTUNG: Oben die Richtigen Daten nehmen + Richtiges Netz\n",
    "\n",
    "# Info über das Netz\n",
    "print(summary(net))\n",
    "\n",
    "# Info\n",
    "#print(\"INFO:\", torch.load(\"/home/wolfda/Clinic_Data/Data/Covid_Concern/Networks/3D_DenseNet_PreTrain/save/model_E/versuch_0/info.pt\")) # [model: A,B,C,..], [versuch: 0,1,2,..]\n",
    "\n",
    "# initialise Lightning's trainer.\n",
    "trainer = pytorch_lightning.Trainer(\n",
    "    gpus=[-1],\n",
    "    max_epochs=4,\n",
    "    num_sanity_val_steps=1,\n",
    "    checkpoint_callback=False\n",
    ")\n",
    "\n",
    "# test\n",
    "out = trainer.test(net)\n",
    "#print(out)\n",
    "\n",
    "# Eval Modus (macht PT Lightning bei model.test automatisch)\n",
    "Netz = net.eval()\n",
    "# Das ganze Netzt ausgeben\n",
    "#print(\"Ganzes Netz: \")\n",
    "#print(Netz)"
   ]
  },
  {
   "cell_type": "code",
   "execution_count": 39,
   "id": "9404bb50-ec24-4e0e-94c9-0d39098be178",
   "metadata": {
    "pycharm": {
     "name": "#%%\n"
    }
   },
   "outputs": [
    {
     "name": "stderr",
     "output_type": "stream",
     "text": [
      "WARNING:root:no value was provided for `target_layer`, thus set to 'backbone.7'.\n"
     ]
    },
    {
     "name": "stdout",
     "output_type": "stream",
     "text": [
      "(306, 463, 3)\n",
      "(3, 306, 463)\n",
      "(1, 3, 306, 463)\n"
     ]
    },
    {
     "name": "stderr",
     "output_type": "stream",
     "text": [
      "/tmp/ipykernel_758506/4066148775.py:50: UserWarning: Implicit dimension choice for softmax has been deprecated. Change the call to include dim=X as an argument.\n",
      "  output = torch.nn.functional.softmax(y_hat)\n"
     ]
    },
    {
     "name": "stdout",
     "output_type": "stream",
     "text": [
      "tensor([0])\n"
     ]
    },
    {
     "data": {
      "image/png": "[encoded data removed]",
      "text/plain": [
       "<Figure size 640x480 with 1 Axes>"
      ]
     },
     "metadata": {},
     "output_type": "display_data"
    },
    {
     "name": "stderr",
     "output_type": "stream",
     "text": [
      "wandb: Network error (ConnectTimeout), entering retry loop.\n",
      "wandb: Network error (ConnectTimeout), entering retry loop.\n",
      "--- Logging error ---\n",
      "Traceback (most recent call last):\n",
      "  File \"/home/wolfda/anaconda3/envs/Monai3/lib/python3.9/logging/__init__.py\", line 1087, in emit\n",
      "    self.flush()\n",
      "  File \"/home/wolfda/anaconda3/envs/Monai3/lib/python3.9/logging/__init__.py\", line 1067, in flush\n",
      "    self.stream.flush()\n",
      "OSError: [Errno 28] No space left on device\n",
      "Call stack:\n",
      "  File \"/home/wolfda/anaconda3/envs/Monai3/lib/python3.9/threading.py\", line 912, in _bootstrap\n",
      "    self._bootstrap_inner()\n",
      "  File \"/home/wolfda/anaconda3/envs/Monai3/lib/python3.9/threading.py\", line 954, in _bootstrap_inner\n",
      "    self.run()\n",
      "  File \"/home/wolfda/anaconda3/envs/Monai3/lib/python3.9/site-packages/wandb/sdk/internal/internal_util.py\", line 52, in run\n",
      "    self._run()\n",
      "  File \"/home/wolfda/anaconda3/envs/Monai3/lib/python3.9/site-packages/wandb/sdk/internal/internal_util.py\", line 102, in _run\n",
      "    self._process(record)\n",
      "  File \"/home/wolfda/anaconda3/envs/Monai3/lib/python3.9/site-packages/wandb/sdk/internal/internal.py\", line 291, in _process\n",
      "    self._sm.send(record)\n",
      "  File \"/home/wolfda/anaconda3/envs/Monai3/lib/python3.9/site-packages/wandb/sdk/internal/sender.py\", line 236, in send\n",
      "    send_handler(record)\n",
      "  File \"/home/wolfda/anaconda3/envs/Monai3/lib/python3.9/site-packages/wandb/sdk/internal/sender.py\", line 248, in send_request\n",
      "    logger.debug(\"send_request: {}\".format(request_type))\n",
      "Message: 'send_request: stop_status'\n",
      "Arguments: ()\n",
      "Thread WriterThread:\n",
      "Traceback (most recent call last):\n",
      "  File \"/home/wolfda/anaconda3/envs/Monai3/lib/python3.9/site-packages/wandb/sdk/internal/internal_util.py\", line 52, in run\n",
      "    self._run()\n",
      "  File \"/home/wolfda/anaconda3/envs/Monai3/lib/python3.9/site-packages/wandb/sdk/internal/internal_util.py\", line 102, in _run\n",
      "    self._process(record)\n",
      "  File \"/home/wolfda/anaconda3/envs/Monai3/lib/python3.9/site-packages/wandb/sdk/internal/internal.py\", line 332, in _process\n",
      "    self._wm.write(record)\n",
      "  File \"/home/wolfda/anaconda3/envs/Monai3/lib/python3.9/site-packages/wandb/sdk/internal/writer.py\", line 35, in write\n",
      "    self._ds.write(record)\n",
      "  File \"/home/wolfda/anaconda3/envs/Monai3/lib/python3.9/site-packages/wandb/sdk/internal/datastore.py\", line 276, in write\n",
      "    ret = self._write_data(s)\n",
      "  File \"/home/wolfda/anaconda3/envs/Monai3/lib/python3.9/site-packages/wandb/sdk/internal/datastore.py\", line 257, in _write_data\n",
      "    self._fp.flush()\n",
      "OSError: [Errno 28] No space left on device\n",
      "wandb: ERROR Internal wandb error: file data was not synced\n",
      "Exception in thread ChkStopThr:\n",
      "Traceback (most recent call last):\n",
      "  File \"/home/wolfda/anaconda3/envs/Monai3/lib/python3.9/threading.py\", line 954, in _bootstrap_inner\n",
      "Exception in thread NetStatThr:\n",
      "Traceback (most recent call last):\n",
      "  File \"/home/wolfda/anaconda3/envs/Monai3/lib/python3.9/threading.py\", line 954, in _bootstrap_inner\n",
      "    self.run()\n",
      "  File \"/home/wolfda/anaconda3/envs/Monai3/lib/python3.9/threading.py\", line 892, in run\n",
      "    self._target(*self._args, **self._kwargs)\n",
      "  File \"/home/wolfda/anaconda3/envs/Monai3/lib/python3.9/site-packages/wandb/sdk/wandb_run.py\", line 170, in check_status\n",
      "    self.run()\n",
      "  File \"/home/wolfda/anaconda3/envs/Monai3/lib/python3.9/threading.py\", line 892, in run\n",
      "    status_response = self._interface.communicate_stop_status()\n",
      "  File \"/home/wolfda/anaconda3/envs/Monai3/lib/python3.9/site-packages/wandb/sdk/interface/interface.py\", line 114, in communicate_stop_status\n",
      "    self._target(*self._args, **self._kwargs)\n",
      "  File \"/home/wolfda/anaconda3/envs/Monai3/lib/python3.9/site-packages/wandb/sdk/wandb_run.py\", line 152, in check_network_status\n",
      "    resp = self._communicate_stop_status(status)\n",
      "  File \"/home/wolfda/anaconda3/envs/Monai3/lib/python3.9/site-packages/wandb/sdk/interface/interface_shared.py\", line 378, in _communicate_stop_status\n",
      "    status_response = self._interface.communicate_network_status()\n",
      "  File \"/home/wolfda/anaconda3/envs/Monai3/lib/python3.9/site-packages/wandb/sdk/interface/interface.py\", line 125, in communicate_network_status\n",
      "    resp = self._communicate(req, local=True)\n",
      "  File \"/home/wolfda/anaconda3/envs/Monai3/lib/python3.9/site-packages/wandb/sdk/interface/interface_shared.py\", line 213, in _communicate\n",
      "    resp = self._communicate_network_status(status)\n",
      "  File \"/home/wolfda/anaconda3/envs/Monai3/lib/python3.9/site-packages/wandb/sdk/interface/interface_shared.py\", line 388, in _communicate_network_status\n",
      "    return self._communicate_async(rec, local=local).get(timeout=timeout)\n",
      "  File \"/home/wolfda/anaconda3/envs/Monai3/lib/python3.9/site-packages/wandb/sdk/interface/interface_shared.py\", line 218, in _communicate_async\n",
      "    raise Exception(\"The wandb backend process has shutdown\")\n",
      "Exception: The wandb backend process has shutdown\n",
      "    resp = self._communicate(req, local=True)\n",
      "  File \"/home/wolfda/anaconda3/envs/Monai3/lib/python3.9/site-packages/wandb/sdk/interface/interface_shared.py\", line 213, in _communicate\n",
      "    return self._communicate_async(rec, local=local).get(timeout=timeout)\n",
      "  File \"/home/wolfda/anaconda3/envs/Monai3/lib/python3.9/site-packages/wandb/sdk/interface/interface_shared.py\", line 218, in _communicate_async\n",
      "    raise Exception(\"The wandb backend process has shutdown\")\n",
      "Exception: The wandb backend process has shutdown\n"
     ]
    }
   ],
   "source": [
    "###### Explainable AI\n",
    "import monai\n",
    "\n",
    "# Trainiertes Model wieder Laden (mit Pfad wie oben festgelegt **2)\n",
    "model = Net.load_from_checkpoint(\"/home/wolfda/Data/Covid-Classification/Results/Dwonstrem_Covid_class/NotSim_LIDC_Covid_SwAV_1-12/epoch=22.ckpt\") # \"Net\" ist der Name unseres Netzes **1\n",
    "# letzte Epoche: last.ckpt | Besten 2 Epochen: epoch=5-val_loss=1.34.ckpt\n",
    "\n",
    "\n",
    "# Image Laden\n",
    "\n",
    "# Image Path (png / jpeg)\n",
    "image_path = \"/home/wolfda/Data/Covid-Classification/Data/Data/CT_COVID/PIIS0140673620302117_2.png\"\n",
    "\n",
    "# Monai png/jpeg laden\n",
    "load = monai.transforms.LoadImage()\n",
    "im = load(image_path)\n",
    "image = im[0]\n",
    "print(image.shape)\n",
    "\n",
    "# Channel vorne (512x512x3 -> 3x512x512)\n",
    "channel = monai.transforms.AsChannelFirst(channel_dim=- 1)\n",
    "image = channel(image)\n",
    "print(image.shape)\n",
    "\n",
    "\n",
    "# Eine Dim dranhängen (1x3x512x512)\n",
    "image = np.expand_dims(image, 0)\n",
    "print(image.shape)\n",
    "\n",
    "# Numpy to torch\n",
    "image = torch.from_numpy(np.asarray(image))\n",
    "\n",
    "# Auf Grafikkarte \n",
    "#image = image.cuda()\n",
    "\n",
    "# Grad Cam\n",
    "#cam_extractor = SmoothGradCAMpp(model, input_shape = [3, 512, 512])\n",
    "\n",
    "# Namen der Layer:\n",
    "#print(medcam.get_layers(model))\n",
    "\n",
    "# BESSER:\n",
    "# M3d-CAM: gbp (Guided Backpropagation) | gcam (Grad-Cam, default) | ggcam (Guided Grad-Cam) | gcampp (Grad-Cam++)\n",
    "model = medcam.inject(model, output_dir=\"attention_maps\", backend='gcam', label='best', save_maps=True)\n",
    "# Speichert es da wo code liegt in Ordner \"attention_maps\"\n",
    "\n",
    "model.eval()\n",
    "y_hat = model(image) # Das Bild von einem Patienetn ins Netz geben\n",
    "\n",
    "output = torch.nn.functional.softmax(y_hat)\n",
    "klasse = torch.argmax(output, dim=1)\n",
    "print(klasse)\n",
    "\n",
    "# SCHLECHTER: \n",
    "# Grad Cam\n",
    "#activation_map = cam_extractor(torch.argmax(y_hat, dim=1).item(), y_hat)\n",
    "# Visualize the raw CAM\n",
    "#plt.imshow(activation_map.cpu().numpy()); plt.axis('off'); plt.tight_layout(); plt.show()"
   ]
  },
  {
   "cell_type": "code",
   "execution_count": 23,
   "id": "37aa3b73-3313-475e-b7bc-45ae8d916fe1",
   "metadata": {
    "pycharm": {
     "name": "#%%\n"
    }
   },
   "outputs": [
    {
     "data": {
      "text/plain": [
       "['__class__',\n",
       " '__contains__',\n",
       " '__delattr__',\n",
       " '__dict__',\n",
       " '__dir__',\n",
       " '__doc__',\n",
       " '__eq__',\n",
       " '__format__',\n",
       " '__ge__',\n",
       " '__getattr__',\n",
       " '__getattribute__',\n",
       " '__getitem__',\n",
       " '__gt__',\n",
       " '__hash__',\n",
       " '__init__',\n",
       " '__init_subclass__',\n",
       " '__le__',\n",
       " '__lt__',\n",
       " '__module__',\n",
       " '__ne__',\n",
       " '__new__',\n",
       " '__reduce__',\n",
       " '__reduce_ex__',\n",
       " '__repr__',\n",
       " '__setattr__',\n",
       " '__setitem__',\n",
       " '__sizeof__',\n",
       " '__str__',\n",
       " '__subclasshook__',\n",
       " '__weakref__',\n",
       " '_as_dict',\n",
       " '_callback',\n",
       " '_check_locked',\n",
       " '_items',\n",
       " '_load_defaults',\n",
       " '_locked',\n",
       " '_raise_value_error_on_nested_artifact',\n",
       " '_sanitize',\n",
       " '_sanitize_dict',\n",
       " '_set_callback',\n",
       " '_set_settings',\n",
       " '_settings',\n",
       " '_update',\n",
       " '_users',\n",
       " '_users_cnt',\n",
       " '_users_inv',\n",
       " 'as_dict',\n",
       " 'get',\n",
       " 'items',\n",
       " 'keys',\n",
       " 'persist',\n",
       " 'setdefaults',\n",
       " 'update',\n",
       " 'update_locked']"
      ]
     },
     "execution_count": 23,
     "metadata": {},
     "output_type": "execute_result"
    }
   ],
   "source": [
    "dir(wandb.config)"
   ]
  },
  {
   "cell_type": "code",
   "execution_count": null,
   "id": "7c125b6a-422e-44c6-9016-be969b2767b7",
   "metadata": {
    "pycharm": {
     "name": "#%%\n"
    }
   },
   "outputs": [],
   "source": []
  }
 ],
 "metadata": {
  "kernelspec": {
   "display_name": "Python 3 (ipykernel)",
   "language": "python",
   "name": "python3"
  },
  "language_info": {
   "codemirror_mode": {
    "name": "ipython",
    "version": 3
   },
   "file_extension": ".py",
   "mimetype": "text/x-python",
   "name": "python",
   "nbconvert_exporter": "python",
   "pygments_lexer": "ipython3",
   "version": "3.10.6"
  }
 },
 "nbformat": 4,
 "nbformat_minor": 5
}
