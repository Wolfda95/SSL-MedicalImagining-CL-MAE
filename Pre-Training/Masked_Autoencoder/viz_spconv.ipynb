{
 "cells": [
  {
   "cell_type": "markdown",
   "metadata": {
    "pycharm": {
     "name": "#%% md\n"
    }
   },
   "source": [
    "# SparK: Visualization for \"mask pattern vanishing\" issue\n",
    "Load binary images and visualize the convoluted images."
   ]
  },
  {
   "cell_type": "code",
   "execution_count": 1,
   "metadata": {
    "collapsed": false,
    "jupyter": {
     "outputs_hidden": false
    },
    "pycharm": {
     "name": "#%%\n"
    }
   },
   "outputs": [],
   "source": [
    "# load images\n",
    "\n",
    "import torch\n",
    "from torchvision.io import read_image\n",
    "\n",
    "N = 3\n",
    "raw_inp = []\n",
    "for i in range(1, N+1):\n",
    "    chw = read_image(f'viz_imgs/spconv{i}.png')[:1] # only take the first channel\n",
    "    BLACK = 0\n",
    "    # binarize: black represents active (1), white represents masked (0)\n",
    "    active = torch.where(chw == BLACK, torch.ones_like(chw, dtype=torch.float) * 255., torch.zeros_like(chw, dtype=torch.float))\n",
    "    raw_inp.append(active)\n",
    "raw_inp = torch.stack(raw_inp, dim=0)\n",
    "active = raw_inp.bool()     # active: 1, masked: 0"
   ]
  },
  {
   "cell_type": "code",
   "execution_count": 2,
   "metadata": {
    "collapsed": false,
    "jupyter": {
     "outputs_hidden": false
    },
    "pycharm": {
     "name": "#%%\n"
    }
   },
   "outputs": [],
   "source": [
    "# apply dense conv and sparse conv\n",
    "\n",
    "import encoder\n",
    "dense_conv = torch.nn.Conv2d(1, 1, kernel_size=(3, 3), stride=1, padding=1, bias=False)\n",
    "sparse_conv = encoder.SparseConv2d(1, 1, kernel_size=(3, 3), stride=1, padding=1, bias=False)\n",
    "\n",
    "dense_conv.weight.data.fill_(1/dense_conv.weight.numel()), dense_conv.weight.requires_grad_(False)\n",
    "sparse_conv.weight.data.fill_(1/sparse_conv.weight.numel()), sparse_conv.weight.requires_grad_(False)\n",
    "\n",
    "# after the first dense conv\n",
    "conv1 = (dense_conv(raw_inp) > 0) * 255.    # binarize\n",
    "# after the second dense conv\n",
    "conv2 = (dense_conv(conv1) > 0) * 255.      # binarize\n",
    "\n",
    "# after the sparse conv\n",
    "encoder._cur_active = active\n",
    "spconv = (sparse_conv(raw_inp) > 0) * 255.  # binarize"
   ]
  },
  {
   "cell_type": "code",
   "execution_count": 3,
   "metadata": {
    "collapsed": false,
    "jupyter": {
     "outputs_hidden": false
    },
    "pycharm": {
     "name": "#%%\n"
    }
   },
   "outputs": [
    {
     "data": {
      "image/png": "[encoded data removed]",
      "text/plain": [
       "<Figure size 1200x900 with 12 Axes>"
      ]
     },
     "metadata": {},
     "output_type": "display_data"
    }
   ],
   "source": [
    "# visualization\n",
    "\n",
    "from typing import List\n",
    "import PIL.Image as PImage\n",
    "import matplotlib.pyplot as plt\n",
    "from torchvision import transforms\n",
    "\n",
    "raw_inps, conv1s, conv2s, spconvs = [], [], [], []\n",
    "for i in range(N):\n",
    "    raw_inps.append(raw_inp[i].repeat(3, 1, 1).clamp(1, 255))\n",
    "    conv1s.append(conv1[i].repeat(3, 1, 1).clamp(1, 255))\n",
    "    conv2s.append(conv2[i].repeat(3, 1, 1).clamp(1, 255))\n",
    "    spconvs.append(spconv[i].repeat(3, 1, 1).clamp(1, 255))\n",
    "\n",
    "n_rows, n_cols = N, 4\n",
    "plt.figure(figsize=(n_cols * 3, n_rows * 3))\n",
    "\n",
    "tensor2pil = transforms.ToPILImage()\n",
    "for col, (title, chws) in enumerate([('raw_inp', raw_inps), ('conv1', conv1s), ('conv2', conv2s), ('spconv', spconvs)]):\n",
    "    p_imgs: List[PImage.Image] = [tensor2pil(t).convert('RGB') for t in chws]\n",
    "    for row, im in enumerate(p_imgs):\n",
    "        plt.subplot(n_rows, n_cols, 1 + row * n_cols + col)\n",
    "        plt.xticks([]), plt.yticks([]), plt.axis('off')\n",
    "        plt.imshow(im)\n",
    "        if row == 0:\n",
    "            plt.title(title, size=28, pad=18)\n",
    "plt.show()\n"
   ]
  }
 ],
 "metadata": {
  "kernelspec": {
   "display_name": "Python 3 (ipykernel)",
   "language": "python",
   "name": "python3"
  },
  "language_info": {
   "codemirror_mode": {
    "name": "ipython",
    "version": 3
   },
   "file_extension": ".py",
   "mimetype": "text/x-python",
   "name": "python",
   "nbconvert_exporter": "python",
   "pygments_lexer": "ipython3",
   "version": "3.7.3"
  }
 },
 "nbformat": 4,
 "nbformat_minor": 4
}